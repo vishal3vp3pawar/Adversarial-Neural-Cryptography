{
  "nbformat": 4,
  "nbformat_minor": 0,
  "metadata": {
    "colab": {
      "name": "SMAI_Project_LSTM.ipynb",
      "provenance": []
    },
    "kernelspec": {
      "name": "python3",
      "display_name": "Python 3"
    },
    "language_info": {
      "name": "python"
    },
    "accelerator": "GPU"
  },
  "cells": [
    {
      "cell_type": "code",
      "execution_count": null,
      "metadata": {
        "colab": {
          "base_uri": "https://localhost:8080/"
        },
        "id": "B53_N812MnPn",
        "outputId": "96ac3440-f8f6-4842-b95d-dc8056102535"
      },
      "outputs": [
        {
          "output_type": "stream",
          "name": "stdout",
          "text": [
            "Collecting gmpy2\n",
            "  Downloading gmpy2-2.1.2-cp37-cp37m-manylinux_2_17_x86_64.manylinux2014_x86_64.whl (3.6 MB)\n",
            "\u001b[K     |████████████████████████████████| 3.6 MB 5.0 MB/s \n",
            "\u001b[?25hInstalling collected packages: gmpy2\n",
            "Successfully installed gmpy2-2.1.2\n",
            "Requirement already satisfied: tensorflow in /usr/local/lib/python3.7/dist-packages (2.8.0)\n",
            "Requirement already satisfied: six>=1.12.0 in /usr/local/lib/python3.7/dist-packages (from tensorflow) (1.15.0)\n",
            "Requirement already satisfied: flatbuffers>=1.12 in /usr/local/lib/python3.7/dist-packages (from tensorflow) (2.0)\n",
            "Requirement already satisfied: wrapt>=1.11.0 in /usr/local/lib/python3.7/dist-packages (from tensorflow) (1.14.0)\n",
            "Requirement already satisfied: astunparse>=1.6.0 in /usr/local/lib/python3.7/dist-packages (from tensorflow) (1.6.3)\n",
            "Requirement already satisfied: google-pasta>=0.1.1 in /usr/local/lib/python3.7/dist-packages (from tensorflow) (0.2.0)\n",
            "Requirement already satisfied: h5py>=2.9.0 in /usr/local/lib/python3.7/dist-packages (from tensorflow) (3.1.0)\n",
            "Requirement already satisfied: numpy>=1.20 in /usr/local/lib/python3.7/dist-packages (from tensorflow) (1.21.6)\n",
            "Requirement already satisfied: termcolor>=1.1.0 in /usr/local/lib/python3.7/dist-packages (from tensorflow) (1.1.0)\n",
            "Requirement already satisfied: tensorboard<2.9,>=2.8 in /usr/local/lib/python3.7/dist-packages (from tensorflow) (2.8.0)\n",
            "Requirement already satisfied: keras<2.9,>=2.8.0rc0 in /usr/local/lib/python3.7/dist-packages (from tensorflow) (2.8.0)\n",
            "Collecting tf-estimator-nightly==2.8.0.dev2021122109\n",
            "  Downloading tf_estimator_nightly-2.8.0.dev2021122109-py2.py3-none-any.whl (462 kB)\n",
            "\u001b[K     |████████████████████████████████| 462 kB 5.2 MB/s \n",
            "\u001b[?25hRequirement already satisfied: opt-einsum>=2.3.2 in /usr/local/lib/python3.7/dist-packages (from tensorflow) (3.3.0)\n",
            "Requirement already satisfied: absl-py>=0.4.0 in /usr/local/lib/python3.7/dist-packages (from tensorflow) (1.0.0)\n",
            "Requirement already satisfied: grpcio<2.0,>=1.24.3 in /usr/local/lib/python3.7/dist-packages (from tensorflow) (1.44.0)\n",
            "Requirement already satisfied: gast>=0.2.1 in /usr/local/lib/python3.7/dist-packages (from tensorflow) (0.5.3)\n",
            "Requirement already satisfied: protobuf>=3.9.2 in /usr/local/lib/python3.7/dist-packages (from tensorflow) (3.17.3)\n",
            "Requirement already satisfied: typing-extensions>=3.6.6 in /usr/local/lib/python3.7/dist-packages (from tensorflow) (4.2.0)\n",
            "Requirement already satisfied: libclang>=9.0.1 in /usr/local/lib/python3.7/dist-packages (from tensorflow) (14.0.1)\n",
            "Requirement already satisfied: tensorflow-io-gcs-filesystem>=0.23.1 in /usr/local/lib/python3.7/dist-packages (from tensorflow) (0.25.0)\n",
            "Requirement already satisfied: keras-preprocessing>=1.1.1 in /usr/local/lib/python3.7/dist-packages (from tensorflow) (1.1.2)\n",
            "Requirement already satisfied: setuptools in /usr/local/lib/python3.7/dist-packages (from tensorflow) (57.4.0)\n",
            "Requirement already satisfied: wheel<1.0,>=0.23.0 in /usr/local/lib/python3.7/dist-packages (from astunparse>=1.6.0->tensorflow) (0.37.1)\n",
            "Requirement already satisfied: cached-property in /usr/local/lib/python3.7/dist-packages (from h5py>=2.9.0->tensorflow) (1.5.2)\n",
            "Requirement already satisfied: requests<3,>=2.21.0 in /usr/local/lib/python3.7/dist-packages (from tensorboard<2.9,>=2.8->tensorflow) (2.23.0)\n",
            "Requirement already satisfied: tensorboard-plugin-wit>=1.6.0 in /usr/local/lib/python3.7/dist-packages (from tensorboard<2.9,>=2.8->tensorflow) (1.8.1)\n",
            "Requirement already satisfied: werkzeug>=0.11.15 in /usr/local/lib/python3.7/dist-packages (from tensorboard<2.9,>=2.8->tensorflow) (1.0.1)\n",
            "Requirement already satisfied: google-auth<3,>=1.6.3 in /usr/local/lib/python3.7/dist-packages (from tensorboard<2.9,>=2.8->tensorflow) (1.35.0)\n",
            "Requirement already satisfied: tensorboard-data-server<0.7.0,>=0.6.0 in /usr/local/lib/python3.7/dist-packages (from tensorboard<2.9,>=2.8->tensorflow) (0.6.1)\n",
            "Requirement already satisfied: google-auth-oauthlib<0.5,>=0.4.1 in /usr/local/lib/python3.7/dist-packages (from tensorboard<2.9,>=2.8->tensorflow) (0.4.6)\n",
            "Requirement already satisfied: markdown>=2.6.8 in /usr/local/lib/python3.7/dist-packages (from tensorboard<2.9,>=2.8->tensorflow) (3.3.6)\n",
            "Requirement already satisfied: pyasn1-modules>=0.2.1 in /usr/local/lib/python3.7/dist-packages (from google-auth<3,>=1.6.3->tensorboard<2.9,>=2.8->tensorflow) (0.2.8)\n",
            "Requirement already satisfied: rsa<5,>=3.1.4 in /usr/local/lib/python3.7/dist-packages (from google-auth<3,>=1.6.3->tensorboard<2.9,>=2.8->tensorflow) (4.8)\n",
            "Requirement already satisfied: cachetools<5.0,>=2.0.0 in /usr/local/lib/python3.7/dist-packages (from google-auth<3,>=1.6.3->tensorboard<2.9,>=2.8->tensorflow) (4.2.4)\n",
            "Requirement already satisfied: requests-oauthlib>=0.7.0 in /usr/local/lib/python3.7/dist-packages (from google-auth-oauthlib<0.5,>=0.4.1->tensorboard<2.9,>=2.8->tensorflow) (1.3.1)\n",
            "Requirement already satisfied: importlib-metadata>=4.4 in /usr/local/lib/python3.7/dist-packages (from markdown>=2.6.8->tensorboard<2.9,>=2.8->tensorflow) (4.11.3)\n",
            "Requirement already satisfied: zipp>=0.5 in /usr/local/lib/python3.7/dist-packages (from importlib-metadata>=4.4->markdown>=2.6.8->tensorboard<2.9,>=2.8->tensorflow) (3.8.0)\n",
            "Requirement already satisfied: pyasn1<0.5.0,>=0.4.6 in /usr/local/lib/python3.7/dist-packages (from pyasn1-modules>=0.2.1->google-auth<3,>=1.6.3->tensorboard<2.9,>=2.8->tensorflow) (0.4.8)\n",
            "Requirement already satisfied: chardet<4,>=3.0.2 in /usr/local/lib/python3.7/dist-packages (from requests<3,>=2.21.0->tensorboard<2.9,>=2.8->tensorflow) (3.0.4)\n",
            "Requirement already satisfied: idna<3,>=2.5 in /usr/local/lib/python3.7/dist-packages (from requests<3,>=2.21.0->tensorboard<2.9,>=2.8->tensorflow) (2.10)\n",
            "Requirement already satisfied: urllib3!=1.25.0,!=1.25.1,<1.26,>=1.21.1 in /usr/local/lib/python3.7/dist-packages (from requests<3,>=2.21.0->tensorboard<2.9,>=2.8->tensorflow) (1.24.3)\n",
            "Requirement already satisfied: certifi>=2017.4.17 in /usr/local/lib/python3.7/dist-packages (from requests<3,>=2.21.0->tensorboard<2.9,>=2.8->tensorflow) (2021.10.8)\n",
            "Requirement already satisfied: oauthlib>=3.0.0 in /usr/local/lib/python3.7/dist-packages (from requests-oauthlib>=0.7.0->google-auth-oauthlib<0.5,>=0.4.1->tensorboard<2.9,>=2.8->tensorflow) (3.2.0)\n",
            "Installing collected packages: tf-estimator-nightly\n",
            "Successfully installed tf-estimator-nightly-2.8.0.dev2021122109\n"
          ]
        }
      ],
      "source": [
        "!pip3 install gmpy2\n",
        "!pip3 install tensorflow"
      ]
    },
    {
      "cell_type": "code",
      "source": [
        "%matplotlib inline\n",
        "\n",
        "import ctypes\n",
        "import gmpy2\n",
        "from gmpy2 import mpz\n",
        "import matplotlib\n",
        "import matplotlib.pyplot as plt\n",
        "import numpy as np\n",
        "import pandas as pd\n",
        "import sys\n",
        "import keras\n",
        "import tensorflow as tf\n",
        "from tensorflow.keras import layers\n",
        "from keras import backend as K\n",
        "from keras.models import Model\n",
        "from keras.engine.input_layer import Input\n",
        "from keras.layers.core import Activation, Dense\n",
        "from keras.layers import Flatten, Reshape,LSTM,Dropout\n",
        "from keras.layers.convolutional import Conv1D\n",
        "from keras.layers.merge import concatenate\n",
        "from tensorflow.keras.optimizers import Adam, RMSprop\n",
        "from keras.models import load_model"
      ],
      "metadata": {
        "id": "faZcUUTjTNDc"
      },
      "execution_count": null,
      "outputs": []
    },
    {
      "cell_type": "code",
      "source": [
        "m_bits = 16\n",
        "k_bits = 16\n",
        "c_bits = 16\n",
        "pad = 'same'\n",
        "\n",
        "m_train = (m_bits+ k_bits)"
      ],
      "metadata": {
        "id": "THNrNU4DNoUp"
      },
      "execution_count": null,
      "outputs": []
    },
    {
      "cell_type": "code",
      "source": [
        "K.clear_session()\n",
        "\n",
        "##### Alice network #####\n",
        "#\n",
        "ainput0 = Input(shape=(m_bits,)) #message\n",
        "ainput1 = Input(shape=(k_bits,)) #key\n",
        "ainput = concatenate([ainput0, ainput1], axis=1)\n",
        "\n",
        "\n",
        "x = keras.Sequential(\n",
        "    [\n",
        "        layers.Dense(units=(m_bits + k_bits),activation=\"tanh\"),\n",
        "        layers.Reshape((m_bits + k_bits, 1,)),\n",
        "        layers.LSTM(units=32,return_sequences=True),\n",
        "        layers.LSTM(units=256,return_sequences=True),\n",
        "        layers.LSTM(units=1024),\n",
        "        layers.Dense(4096,activation=\"relu\"),\n",
        "        layers.Dropout(0.1),\n",
        "        layers.Dense(16,activation=\"relu\"),\n",
        "    ]\n",
        ")\n",
        "x.compile(loss='mse', optimizer='sgd')\n",
        "alice_output=x(ainput)\n",
        "alice=Model(ainput, alice_output, name='alice')\n",
        "# print(alice_output.shape)\n",
        "\n",
        "##### Bob network #####\n",
        "#\n",
        "binput0 = Input(shape=(c_bits,)) #ciphertext\n",
        "binput1 = Input(shape=(k_bits,)) #key\n",
        "binput = concatenate([binput0, binput1], axis=1)\n",
        "\n",
        "y = keras.Sequential(\n",
        "    [\n",
        "        layers.Dense(units=(m_bits + k_bits),activation=\"tanh\"),\n",
        "        layers.Reshape((m_bits + k_bits, 1,)),\n",
        "        layers.LSTM(units=32,return_sequences=True),\n",
        "        layers.LSTM(units=256,return_sequences=True),\n",
        "        layers.LSTM(units=1024),\n",
        "        layers.Dense(4096,activation=\"relu\"),\n",
        "        layers.Dropout(0.1),\n",
        "        layers.Dense(16,activation=\"relu\"),\n",
        "    ]\n",
        ")\n",
        "y.compile(loss='mse', optimizer='sgd')\n",
        "binp= concatenate([alice_output,binput1],axis=1)\n",
        "bob_output=y(binp)\n",
        "# print(binp.shape)\n",
        "# print(y.summary)\n",
        "# print(bob_output.shape)\n",
        "bob = Model(binp, bob_output, name='bob')\n",
        "\n",
        "#bob.summary()\n",
        "\n",
        "# Eve network\n",
        "#\n",
        "einput = Input(shape=(c_bits,)) #ciphertext only\n",
        "z = keras.Sequential(\n",
        "    [\n",
        "        layers.Dense(units=(c_bits + k_bits),activation=\"tanh\"),\n",
        "        layers.Reshape((c_bits + k_bits, 1,)),\n",
        "        layers.LSTM(units=32,return_sequences=True),\n",
        "        layers.LSTM(units=128,return_sequences=True),\n",
        "        layers.LSTM(units=1024),\n",
        "        layers.Dense(1024,activation=\"relu\"),\n",
        "        layers.Dropout(0.1),\n",
        "        layers.Dense(16,activation=\"relu\"),\n",
        "    ]\n",
        ")\n",
        "z.compile(loss='mse', optimizer='sgd')\n",
        "eve_output=z(einput)\n",
        "eve = Model(einput, eve_output, name='eve')\n",
        "#eve.summary()\n",
        "\n"
      ],
      "metadata": {
        "id": "2muUKXX-U2A7"
      },
      "execution_count": null,
      "outputs": []
    },
    {
      "cell_type": "code",
      "source": [
        "aliceout =alice(concatenate([ainput0, ainput1],axis=1))\n",
        "bobout = bob( concatenate([aliceout,binput1], axis=1))\n",
        "eveout = eve(aliceout)\n",
        "#print(eveout.shape)\n",
        "eveloss = K.mean(  K.sum(K.abs(ainput0 - eveout), axis=-1)  )\n",
        "\n",
        "bobloss = K.mean(  K.sum(K.abs(ainput0 - bobout), axis=-1)  )\n",
        "abeloss = bobloss + (K.square(m_bits/2 - eveloss))/( (m_bits//2)**2 )\n",
        "\n",
        "abeoptim = RMSprop(lr=0.001)\n",
        "eveoptim = RMSprop(lr=0.001) \n",
        "\n",
        "\n",
        "abemodel = Model([ainput0, ainput1, binput1], bobout, name='abemodel')\n",
        "abemodel.add_loss(abeloss)\n",
        "abemodel.compile(optimizer=abeoptim)\n",
        "\n",
        "x.trainable = False\n",
        "eve1_model = Model([ainput0, ainput1], eveout, name='evemodel')\n",
        "eve1_model.add_loss(eveloss)\n",
        "eve1_model.compile(optimizer=eveoptim)\n"
      ],
      "metadata": {
        "colab": {
          "base_uri": "https://localhost:8080/"
        },
        "id": "L9LSCqW5O9i7",
        "outputId": "59ea04ab-1f36-4887-a696-437221abf6fc"
      },
      "execution_count": null,
      "outputs": [
        {
          "output_type": "stream",
          "name": "stderr",
          "text": [
            "/usr/local/lib/python3.7/dist-packages/keras/optimizer_v2/rmsprop.py:130: UserWarning: The `lr` argument is deprecated, use `learning_rate` instead.\n",
            "  super(RMSprop, self).__init__(name, **kwargs)\n"
          ]
        }
      ]
    },
    {
      "cell_type": "code",
      "source": [
        "abelosses = []\n",
        "boblosses = []\n",
        "evelosses = []"
      ],
      "metadata": {
        "id": "XN7_C9u8OTG2"
      },
      "execution_count": null,
      "outputs": []
    },
    {
      "cell_type": "code",
      "source": [
        "epoch_count = 20\n",
        "batch_size = 512\n",
        "n_batches = 128\n",
        "\n",
        "abecycles = 1\n",
        "evecycles = 2\n",
        "\n",
        "print(\"Training \", epoch_count, \"epochs using\", n_batches, \"batches of size\", batch_size)\n",
        "print(\"------------------------------------------------\")\n",
        "for epoch in range(1,epoch_count):\n",
        "    abe_losses = []\n",
        "    bob_losses = []\n",
        "    eve1_losses = []\n",
        "    for iteration in range(n_batches):\n",
        "        \n",
        "        # Train the A-B+E network\n",
        "        #\n",
        "        x.trainable = True\n",
        "        for cycle in range(abecycles):\n",
        "            # Select a random batch of messages, and a random batch of keys\n",
        "            #\n",
        "            m_batch = np.random.randint(0, 2, m_bits * batch_size).reshape(batch_size, m_bits)\n",
        "            k_batch = np.random.randint(0, 2, k_bits * batch_size).reshape(batch_size, k_bits)\n",
        "            loss = abemodel.train_on_batch([m_batch, k_batch,k_batch], None)\n",
        "            abe_losses.append(loss)\n",
        "        abelosses.append(loss)\n",
        "        abeavg = np.mean(abe_losses)\n",
        "\n",
        "        ainp=concatenate([m_batch, k_batch], axis=1)\n",
        "        # Evaluate Bob's ability to decrypt a message\n",
        "        m_enc = x.predict(ainp)\n",
        "        #print(type(m_enc),type(k_batch))\n",
        "        binp=concatenate([m_enc,tf.cast(k_batch,tf.float64)],axis=1)  \n",
        "        m_dec = y.predict(binp)\n",
        "        loss = np.mean(  np.sum( np.abs(m_batch - m_dec), axis=-1)  )\n",
        "        bob_losses.append(loss)\n",
        "        boblosses.append(loss)\n",
        "        bobavg = np.mean(bob_losses)\n",
        "        \n",
        "        # Train the EVE network\n",
        "        #\n",
        "        x.trainable = False\n",
        "        for cycle in range(evecycles):\n",
        "            m_batch = np.random.randint(0, 2, m_bits * batch_size).reshape(batch_size, m_bits)\n",
        "            k_batch = np.random.randint(0, 2, k_bits * batch_size).reshape(batch_size, k_bits)\n",
        "            loss = eve1_model.train_on_batch([m_batch, k_batch], None)\n",
        "            eve1_losses.append(loss)\n",
        "        evelosses.append(loss)\n",
        "        eveavg = np.mean(eve1_losses)\n",
        "       \n",
        "        #print(len(abelosses),len(evelosses),len(boblosses))\n",
        "        if iteration % max(1, (n_batches // 100)) == 0:\n",
        "            print(\"\\rEpoch {:3}: {:3}% | abe: {:2.3f} | eve: {:2.3f} | bob: {:2.3f}\".format(epoch, 100 * iteration // n_batches, abeavg, eveavg,bobavg), end=\"\")\n",
        "            sys.stdout.flush()\n",
        "    \n",
        "    print()\n",
        "    epoch += 1\n",
        "    \n",
        "print('Training finished.')"
      ],
      "metadata": {
        "colab": {
          "base_uri": "https://localhost:8080/"
        },
        "id": "mOBT9XfOOaU4",
        "outputId": "9d9201d0-e4d8-48e9-c1e4-f089bba3f409"
      },
      "execution_count": null,
      "outputs": [
        {
          "output_type": "stream",
          "name": "stdout",
          "text": [
            "Training  20 epochs using 128 batches of size 512\n",
            "------------------------------------------------\n",
            "Epoch   1:  99% | abe: 8.420 | eve: 8.170 | bob: 8.077\n",
            "Epoch   2:  99% | abe: 8.843 | eve: 8.071 | bob: 8.362\n",
            "Epoch   3:  99% | abe: 7.998 | eve: 8.003 | bob: 7.997\n",
            "Epoch   4:  99% | abe: 8.003 | eve: 8.000 | bob: 8.002\n",
            "Epoch   5:  99% | abe: 8.009 | eve: 8.006 | bob: 8.008\n",
            "Epoch   6:  99% | abe: 8.004 | eve: 8.003 | bob: 8.004\n",
            "Epoch   7:  99% | abe: 8.012 | eve: 7.994 | bob: 8.012\n",
            "Epoch   8:  99% | abe: 8.001 | eve: 7.997 | bob: 8.001\n",
            "Epoch   9:  99% | abe: 8.008 | eve: 8.009 | bob: 8.008\n",
            "Epoch  10:  99% | abe: 7.995 | eve: 8.001 | bob: 7.995\n",
            "Epoch  11:  99% | abe: 8.008 | eve: 7.995 | bob: 8.008\n",
            "Epoch  12:  99% | abe: 7.995 | eve: 8.004 | bob: 7.995\n",
            "Epoch  13:  99% | abe: 8.002 | eve: 8.011 | bob: 8.002\n",
            "Epoch  14:  99% | abe: 8.004 | eve: 8.001 | bob: 8.004\n",
            "Epoch  15:  99% | abe: 7.994 | eve: 8.008 | bob: 7.994\n",
            "Epoch  16:  99% | abe: 7.994 | eve: 7.992 | bob: 7.994\n",
            "Epoch  17:  99% | abe: 8.003 | eve: 8.002 | bob: 8.003\n",
            "Epoch  18:  99% | abe: 7.997 | eve: 7.995 | bob: 7.997\n",
            "Epoch  19:  99% | abe: 8.007 | eve: 7.994 | bob: 8.007\n",
            "Training finished.\n"
          ]
        }
      ]
    },
    {
      "cell_type": "code",
      "source": [
        "steps = -1\n",
        "\n",
        "plt.figure(figsize=(7, 4))\n",
        "plt.plot(abelosses[:steps], label='A-B')\n",
        "plt.plot(evelosses[:steps], label='Eve')\n",
        "plt.plot(boblosses[:steps], label='Bob')\n",
        "plt.xlabel(\"Iterations\", fontsize=13)\n",
        "plt.ylabel(\"Loss\", fontsize=13)\n",
        "plt.legend(fontsize=13)\n",
        "\n",
        "#plt.savefig(\"images/\" + model_name + \".png\", transparent=True) #dpi=100\n",
        "plt.show()"
      ],
      "metadata": {
        "colab": {
          "base_uri": "https://localhost:8080/",
          "height": 282
        },
        "id": "ZVj9K685PP1M",
        "outputId": "bb030244-4e0a-4459-dbde-bb612045b523"
      },
      "execution_count": null,
      "outputs": [
        {
          "output_type": "display_data",
          "data": {
            "text/plain": [
              "<Figure size 504x288 with 1 Axes>"
            ],
            "image/png": "[encoded data removed]"
          },
          "metadata": {
            "needs_background": "light"
          }
        }
      ]
    },
    {
      "cell_type": "code",
      "source": [
        "n_examples = 10000\n",
        "\n",
        "m_batch = np.random.randint(0, 2, m_bits * n_examples).reshape(n_examples, m_bits)\n",
        "k_batch = np.random.randint(0, 2, m_bits * n_examples).reshape(n_examples, m_bits)\n",
        "ainp=concatenate([m_batch,k_batch], axis=1)\n",
        "m_enc = x.predict(ainp)\n",
        "m_dec = (y.predict(concatenate([m_enc, tf.cast(k_batch,tf.float64)],axis=1)) > 0.5).astype(int)\n",
        "m_att = (z.predict([m_enc,tf.cast(k_batch,tf.float64)]) > 0.5).astype(int)\n",
        "\n",
        "bdiff = np.abs(m_batch - m_dec)\n",
        "bsum = np.sum(bdiff, axis=-1)\n",
        "ediff = np.abs(m_batch - m_att)\n",
        "esum = np.sum(ediff, axis=-1)\n",
        "\n",
        "\n",
        "print(\"Bob % correct: \", 100.0*np.sum(bsum == 0) / n_examples, '%')\n",
        "print(\"Eve % correct: \", 100.0*np.sum(esum == 0) / n_examples, '%')\n",
        "\n"
      ],
      "metadata": {
        "colab": {
          "base_uri": "https://localhost:8080/"
        },
        "id": "r8MWSNz_PVpB",
        "outputId": "480b313d-09f5-4bc9-89a7-84f028e0bea7"
      },
      "execution_count": null,
      "outputs": [
        {
          "output_type": "stream",
          "name": "stdout",
          "text": [
            "Bob % correct:  0.02 %\n",
            "Eve % correct:  0.02 %\n"
          ]
        }
      ]
    },
    {
      "cell_type": "code",
      "source": [
        "x.trainable = False\n",
        "\n",
        "abelosses = []\n",
        "boblosses = []\n",
        "evelosses = []\n",
        "eve2losses=[]"
      ],
      "metadata": {
        "id": "1xhQMCjBhWPO"
      },
      "execution_count": null,
      "outputs": []
    },
    {
      "cell_type": "code",
      "source": [
        "epoch_count = 20\n",
        "batch_size = 512\n",
        "n_batches = 128\n",
        "\n",
        "abecycles = 1\n",
        "evecycles = 2\n",
        "\n",
        "print(\"Training \", epoch_count, \"epochs using\", n_batches, \"batches of size\", batch_size)\n",
        "print(\"------------------------------------------------\")\n",
        "for epoch in range(1,epoch_count):\n",
        "    abe_losses = []\n",
        "    bob_losses = []\n",
        "    eve1_losses = []\n",
        "    for iteration in range(n_batches):\n",
        "        \n",
        "        # Train the A-B+E network\n",
        "        #\n",
        "        x.trainable = True\n",
        "        for cycle in range(abecycles):\n",
        "            # Select a random batch of messages, and a random batch of keys\n",
        "            #\n",
        "            m_batch = np.random.randint(0, 2, m_bits * batch_size).reshape(batch_size, m_bits)\n",
        "            k_batch = np.random.randint(0, 2, k_bits * batch_size).reshape(batch_size, k_bits)\n",
        "            loss = abemodel.train_on_batch([m_batch, k_batch,k_batch], None)\n",
        "            abe_losses.append(loss)\n",
        "        abelosses.append(loss)\n",
        "        abeavg = np.mean(abe_losses)\n",
        "\n",
        "        ainp=concatenate([m_batch, k_batch], axis=1)\n",
        "        # Evaluate Bob's ability to decrypt a message\n",
        "        m_enc = x.predict(ainp)\n",
        "        #print(type(m_enc),type(k_batch))\n",
        "        binp=concatenate([m_enc,tf.cast(k_batch,tf.float64)],axis=1)  \n",
        "        m_dec = y.predict(binp)\n",
        "        loss = np.mean(  np.sum( np.abs(m_batch - m_dec), axis=-1)  )\n",
        "        bob_losses.append(loss)\n",
        "        boblosses.append(loss)\n",
        "        bobavg = np.mean(bob_losses)\n",
        "        \n",
        "        # Train the EVE network\n",
        "        #\n",
        "        x.trainable = False\n",
        "        for cycle in range(evecycles):\n",
        "            m_batch = np.random.randint(0, 2, m_bits * batch_size).reshape(batch_size, m_bits)\n",
        "            k_batch = np.random.randint(0, 2, k_bits * batch_size).reshape(batch_size, k_bits)\n",
        "            loss = eve1_model.train_on_batch([m_batch, k_batch], None)\n",
        "            eve1_losses.append(loss)\n",
        "        evelosses.append(loss)\n",
        "        eveavg = np.mean(eve1_losses)\n",
        "        # Train the EVE2 network\n",
        "        #\n",
        "        \n",
        "        if iteration % max(1, (n_batches // 100)) == 0:\n",
        "            print(\"\\rEpoch {:3}: {:3}% | abe: {:2.3f} | eve: {:2.3f} | bob: {:2.3f}\".format(epoch, 100 * iteration // n_batches, abeavg, eveavg, bobavg), end=\"\")\n",
        "            sys.stdout.flush()\n",
        "    \n",
        "    print()\n",
        "    epoch += 1\n",
        "    \n",
        "print('Training finished.')"
      ],
      "metadata": {
        "colab": {
          "base_uri": "https://localhost:8080/"
        },
        "id": "HbQVlMv2Pkod",
        "outputId": "878d1a50-99b8-49ad-f7ea-8560adc70572"
      },
      "execution_count": null,
      "outputs": [
        {
          "output_type": "stream",
          "name": "stdout",
          "text": [
            "Training  20 epochs using 128 batches of size 512\n",
            "------------------------------------------------\n",
            "Epoch   1:  99% | abe: 5.797 | eve: 5.958 | bob: 5.723\n",
            "Epoch   2:  99% | abe: 5.784 | eve: 5.910 | bob: 5.706\n",
            "Epoch   3:  99% | abe: 5.766 | eve: 5.927 | bob: 5.689\n",
            "Epoch   4:  99% | abe: 5.729 | eve: 5.971 | bob: 5.654\n",
            "Epoch   5:  99% | abe: 5.695 | eve: 5.889 | bob: 5.615\n",
            "Epoch   6:  99% | abe: 5.656 | eve: 5.830 | bob: 5.572\n",
            "Epoch   7:  99% | abe: 5.641 | eve: 5.866 | bob: 5.562\n",
            "Epoch   8:  99% | abe: 5.640 | eve: 5.871 | bob: 5.561\n",
            "Epoch   9:  99% | abe: 5.610 | eve: 5.831 | bob: 5.529\n",
            "Epoch  10:  99% | abe: 5.604 | eve: 5.820 | bob: 5.522\n",
            "Epoch  11:  99% | abe: 5.571 | eve: 5.814 | bob: 5.486\n",
            "Epoch  12:  99% | abe: 5.561 | eve: 5.771 | bob: 5.476\n",
            "Epoch  13:  99% | abe: 5.580 | eve: 5.719 | bob: 5.493\n",
            "Epoch  14:  99% | abe: 5.549 | eve: 5.705 | bob: 5.460\n",
            "Epoch  15:  99% | abe: 5.557 | eve: 5.704 | bob: 5.467\n",
            "Epoch  16:  99% | abe: 5.553 | eve: 5.749 | bob: 5.468\n",
            "Epoch  17:  99% | abe: 5.542 | eve: 5.719 | bob: 5.450\n",
            "Epoch  18:  99% | abe: 5.521 | eve: 5.756 | bob: 5.433\n",
            "Epoch  19:  99% | abe: 5.516 | eve: 5.812 | bob: 5.431\n",
            "Training finished.\n"
          ]
        }
      ]
    },
    {
      "cell_type": "code",
      "source": [
        "steps = -1\n",
        "\n",
        "plt.figure(figsize=(7, 4))\n",
        "plt.plot(abelosses[:steps], label='A-B')\n",
        "plt.plot(evelosses[:steps], label='Eve')\n",
        "plt.plot(boblosses[:steps], label='Bob')\n",
        "plt.xlabel(\"Iterations\", fontsize=13)\n",
        "plt.ylabel(\"Loss\", fontsize=13)\n",
        "plt.legend(fontsize=13)\n",
        "\n",
        "#plt.savefig(\"images/\" + model_name + \"-eve1.png\", transparent=True) #dpi=100\n",
        "plt.show()"
      ],
      "metadata": {
        "id": "XnCVVzhAPtkz",
        "colab": {
          "base_uri": "https://localhost:8080/",
          "height": 282
        },
        "outputId": "c88743d4-b9bb-4c80-d4c0-9c59bf8f27b4"
      },
      "execution_count": null,
      "outputs": [
        {
          "output_type": "display_data",
          "data": {
            "text/plain": [
              "<Figure size 504x288 with 1 Axes>"
            ],
            "image/png": "[encoded data removed]"
          },
          "metadata": {
            "needs_background": "light"
          }
        }
      ]
    },
    {
      "cell_type": "code",
      "source": [
        "n_examples = 10000\n",
        "\n",
        "m_batch = np.random.randint(0, 2, m_bits * n_examples).reshape(n_examples, m_bits)\n",
        "k_batch = np.random.randint(0, 2, m_bits * n_examples).reshape(n_examples, m_bits)\n",
        "\n",
        "m_enc = alice.predict([m_batch, k_batch])\n",
        "m_dec = (bob.predict([m_enc, k_batch]) > 0.5).astype(int)\n",
        "m_att = (eve.predict(m_enc) > 0.5).astype(int)\n",
        "\n",
        "bdiff = np.abs(m_batch - m_dec)\n",
        "bsum = np.sum(bdiff, axis=-1)\n",
        "ediff = np.abs(m_batch - m_att)\n",
        "esum = np.sum(ediff, axis=-1)\n",
        "\n",
        "print(\"Bob % correct: \", 100.0*np.sum(bsum == 0) / n_examples, '%')\n",
        "print(\"Eve % correct: \", 100.0*np.sum(esum == 0) / n_examples, '%')"
      ],
      "metadata": {
        "id": "Pm3zGN5qPvMZ",
        "colab": {
          "base_uri": "https://localhost:8080/"
        },
        "outputId": "df12f1a8-4390-4728-c8ba-c44d718afd89"
      },
      "execution_count": null,
      "outputs": [
        {
          "output_type": "stream",
          "name": "stdout",
          "text": [
            "Bob % correct:  0.05 %\n",
            "Eve % correct:  0.03 %\n"
          ]
        }
      ]
    },
    {
      "cell_type": "code",
      "source": [
        "import time\n",
        "\n",
        "while True:\n",
        "  time.sleep(60)"
      ],
      "metadata": {
        "id": "uCR2RI4TrJkN"
      },
      "execution_count": null,
      "outputs": []
    }
  ]
}