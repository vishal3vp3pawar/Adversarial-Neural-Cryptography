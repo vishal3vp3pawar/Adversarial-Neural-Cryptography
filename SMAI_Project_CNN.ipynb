{
  "nbformat": 4,
  "nbformat_minor": 0,
  "metadata": {
    "colab": {
      "name": "SMAI_Project_CNN.ipynb",
      "provenance": []
    },
    "kernelspec": {
      "name": "python3",
      "display_name": "Python 3"
    },
    "language_info": {
      "name": "python"
    },
    "accelerator": "GPU"
  },
  "cells": [
    {
      "cell_type": "code",
      "source": [
        "!pip3 install gmpy2\n",
        "!pip3 install tensorflow"
      ],
      "metadata": {
        "colab": {
          "base_uri": "https://localhost:8080/"
        },
        "id": "ahHbo9BxED3E",
        "outputId": "84456e17-87af-4518-d0a8-4475fcbac447"
      },
      "execution_count": null,
      "outputs": [
        {
          "output_type": "stream",
          "name": "stdout",
          "text": [
            "Collecting gmpy2\n",
            "  Downloading gmpy2-2.1.2-cp37-cp37m-manylinux_2_17_x86_64.manylinux2014_x86_64.whl (3.6 MB)\n",
            "\u001b[K     |████████████████████████████████| 3.6 MB 14.8 MB/s \n",
            "\u001b[?25hInstalling collected packages: gmpy2\n",
            "Successfully installed gmpy2-2.1.2\n",
            "Requirement already satisfied: tensorflow in /usr/local/lib/python3.7/dist-packages (2.8.0)\n",
            "Requirement already satisfied: gast>=0.2.1 in /usr/local/lib/python3.7/dist-packages (from tensorflow) (0.5.3)\n",
            "Requirement already satisfied: tensorflow-io-gcs-filesystem>=0.23.1 in /usr/local/lib/python3.7/dist-packages (from tensorflow) (0.25.0)\n",
            "Requirement already satisfied: google-pasta>=0.1.1 in /usr/local/lib/python3.7/dist-packages (from tensorflow) (0.2.0)\n",
            "Requirement already satisfied: absl-py>=0.4.0 in /usr/local/lib/python3.7/dist-packages (from tensorflow) (1.0.0)\n",
            "Requirement already satisfied: typing-extensions>=3.6.6 in /usr/local/lib/python3.7/dist-packages (from tensorflow) (4.2.0)\n",
            "Requirement already satisfied: tensorboard<2.9,>=2.8 in /usr/local/lib/python3.7/dist-packages (from tensorflow) (2.8.0)\n",
            "Requirement already satisfied: keras-preprocessing>=1.1.1 in /usr/local/lib/python3.7/dist-packages (from tensorflow) (1.1.2)\n",
            "Requirement already satisfied: six>=1.12.0 in /usr/local/lib/python3.7/dist-packages (from tensorflow) (1.15.0)\n",
            "Requirement already satisfied: protobuf>=3.9.2 in /usr/local/lib/python3.7/dist-packages (from tensorflow) (3.17.3)\n",
            "Collecting tf-estimator-nightly==2.8.0.dev2021122109\n",
            "  Downloading tf_estimator_nightly-2.8.0.dev2021122109-py2.py3-none-any.whl (462 kB)\n",
            "\u001b[K     |████████████████████████████████| 462 kB 10.4 MB/s \n",
            "\u001b[?25hRequirement already satisfied: grpcio<2.0,>=1.24.3 in /usr/local/lib/python3.7/dist-packages (from tensorflow) (1.44.0)\n",
            "Requirement already satisfied: opt-einsum>=2.3.2 in /usr/local/lib/python3.7/dist-packages (from tensorflow) (3.3.0)\n",
            "Requirement already satisfied: numpy>=1.20 in /usr/local/lib/python3.7/dist-packages (from tensorflow) (1.21.6)\n",
            "Requirement already satisfied: h5py>=2.9.0 in /usr/local/lib/python3.7/dist-packages (from tensorflow) (3.1.0)\n",
            "Requirement already satisfied: flatbuffers>=1.12 in /usr/local/lib/python3.7/dist-packages (from tensorflow) (2.0)\n",
            "Requirement already satisfied: setuptools in /usr/local/lib/python3.7/dist-packages (from tensorflow) (57.4.0)\n",
            "Requirement already satisfied: keras<2.9,>=2.8.0rc0 in /usr/local/lib/python3.7/dist-packages (from tensorflow) (2.8.0)\n",
            "Requirement already satisfied: termcolor>=1.1.0 in /usr/local/lib/python3.7/dist-packages (from tensorflow) (1.1.0)\n",
            "Requirement already satisfied: wrapt>=1.11.0 in /usr/local/lib/python3.7/dist-packages (from tensorflow) (1.14.0)\n",
            "Requirement already satisfied: astunparse>=1.6.0 in /usr/local/lib/python3.7/dist-packages (from tensorflow) (1.6.3)\n",
            "Requirement already satisfied: libclang>=9.0.1 in /usr/local/lib/python3.7/dist-packages (from tensorflow) (14.0.1)\n",
            "Requirement already satisfied: wheel<1.0,>=0.23.0 in /usr/local/lib/python3.7/dist-packages (from astunparse>=1.6.0->tensorflow) (0.37.1)\n",
            "Requirement already satisfied: cached-property in /usr/local/lib/python3.7/dist-packages (from h5py>=2.9.0->tensorflow) (1.5.2)\n",
            "Requirement already satisfied: werkzeug>=0.11.15 in /usr/local/lib/python3.7/dist-packages (from tensorboard<2.9,>=2.8->tensorflow) (1.0.1)\n",
            "Requirement already satisfied: google-auth-oauthlib<0.5,>=0.4.1 in /usr/local/lib/python3.7/dist-packages (from tensorboard<2.9,>=2.8->tensorflow) (0.4.6)\n",
            "Requirement already satisfied: google-auth<3,>=1.6.3 in /usr/local/lib/python3.7/dist-packages (from tensorboard<2.9,>=2.8->tensorflow) (1.35.0)\n",
            "Requirement already satisfied: requests<3,>=2.21.0 in /usr/local/lib/python3.7/dist-packages (from tensorboard<2.9,>=2.8->tensorflow) (2.23.0)\n",
            "Requirement already satisfied: tensorboard-data-server<0.7.0,>=0.6.0 in /usr/local/lib/python3.7/dist-packages (from tensorboard<2.9,>=2.8->tensorflow) (0.6.1)\n",
            "Requirement already satisfied: tensorboard-plugin-wit>=1.6.0 in /usr/local/lib/python3.7/dist-packages (from tensorboard<2.9,>=2.8->tensorflow) (1.8.1)\n",
            "Requirement already satisfied: markdown>=2.6.8 in /usr/local/lib/python3.7/dist-packages (from tensorboard<2.9,>=2.8->tensorflow) (3.3.6)\n",
            "Requirement already satisfied: rsa<5,>=3.1.4 in /usr/local/lib/python3.7/dist-packages (from google-auth<3,>=1.6.3->tensorboard<2.9,>=2.8->tensorflow) (4.8)\n",
            "Requirement already satisfied: pyasn1-modules>=0.2.1 in /usr/local/lib/python3.7/dist-packages (from google-auth<3,>=1.6.3->tensorboard<2.9,>=2.8->tensorflow) (0.2.8)\n",
            "Requirement already satisfied: cachetools<5.0,>=2.0.0 in /usr/local/lib/python3.7/dist-packages (from google-auth<3,>=1.6.3->tensorboard<2.9,>=2.8->tensorflow) (4.2.4)\n",
            "Requirement already satisfied: requests-oauthlib>=0.7.0 in /usr/local/lib/python3.7/dist-packages (from google-auth-oauthlib<0.5,>=0.4.1->tensorboard<2.9,>=2.8->tensorflow) (1.3.1)\n",
            "Requirement already satisfied: importlib-metadata>=4.4 in /usr/local/lib/python3.7/dist-packages (from markdown>=2.6.8->tensorboard<2.9,>=2.8->tensorflow) (4.11.3)\n",
            "Requirement already satisfied: zipp>=0.5 in /usr/local/lib/python3.7/dist-packages (from importlib-metadata>=4.4->markdown>=2.6.8->tensorboard<2.9,>=2.8->tensorflow) (3.8.0)\n",
            "Requirement already satisfied: pyasn1<0.5.0,>=0.4.6 in /usr/local/lib/python3.7/dist-packages (from pyasn1-modules>=0.2.1->google-auth<3,>=1.6.3->tensorboard<2.9,>=2.8->tensorflow) (0.4.8)\n",
            "Requirement already satisfied: idna<3,>=2.5 in /usr/local/lib/python3.7/dist-packages (from requests<3,>=2.21.0->tensorboard<2.9,>=2.8->tensorflow) (2.10)\n",
            "Requirement already satisfied: urllib3!=1.25.0,!=1.25.1,<1.26,>=1.21.1 in /usr/local/lib/python3.7/dist-packages (from requests<3,>=2.21.0->tensorboard<2.9,>=2.8->tensorflow) (1.24.3)\n",
            "Requirement already satisfied: certifi>=2017.4.17 in /usr/local/lib/python3.7/dist-packages (from requests<3,>=2.21.0->tensorboard<2.9,>=2.8->tensorflow) (2021.10.8)\n",
            "Requirement already satisfied: chardet<4,>=3.0.2 in /usr/local/lib/python3.7/dist-packages (from requests<3,>=2.21.0->tensorboard<2.9,>=2.8->tensorflow) (3.0.4)\n",
            "Requirement already satisfied: oauthlib>=3.0.0 in /usr/local/lib/python3.7/dist-packages (from requests-oauthlib>=0.7.0->google-auth-oauthlib<0.5,>=0.4.1->tensorboard<2.9,>=2.8->tensorflow) (3.2.0)\n",
            "Installing collected packages: tf-estimator-nightly\n",
            "Successfully installed tf-estimator-nightly-2.8.0.dev2021122109\n"
          ]
        }
      ]
    },
    {
      "cell_type": "code",
      "execution_count": null,
      "metadata": {
        "id": "ODf_hVbIxTMj"
      },
      "outputs": [],
      "source": [
        "%matplotlib inline\n",
        "\n",
        "import ctypes\n",
        "import gmpy2\n",
        "from gmpy2 import mpz\n",
        "import matplotlib\n",
        "import matplotlib.pyplot as plt\n",
        "import numpy as np\n",
        "import pandas as pd\n",
        "import sys\n",
        "import keras\n",
        "import tensorflow as tf\n",
        "from tensorflow.keras import layers\n",
        "from keras import backend as K\n",
        "from keras.models import Model\n",
        "from keras.engine.input_layer import Input\n",
        "from keras.layers.core import Activation, Dense\n",
        "from keras.layers import Flatten, Reshape\n",
        "from keras.layers.convolutional import Conv1D\n",
        "from keras.layers.merge import concatenate\n",
        "from tensorflow.keras.optimizers import Adam, RMSprop\n",
        "from keras.models import load_model"
      ]
    },
    {
      "cell_type": "code",
      "source": [
        "m_bits = 16\n",
        "k_bits = 16\n",
        "c_bits = 16\n",
        "pad = 'same'\n",
        "\n",
        "m_train = (m_bits+ k_bits)"
      ],
      "metadata": {
        "id": "N0t9aWMXFa67"
      },
      "execution_count": null,
      "outputs": []
    },
    {
      "cell_type": "code",
      "source": [
        "K.clear_session()\n",
        "\n",
        "##### Alice network #####\n",
        "#\n",
        "ainput0 = Input(shape=(m_bits,)) #message\n",
        "ainput1 = Input(shape=(k_bits,)) #key\n",
        "ainput = concatenate([ainput0, ainput1], axis=1)\n",
        "\n",
        "\n",
        "alice_model = keras.Sequential(\n",
        "    [\n",
        "        layers.Dense(units=(m_bits + k_bits),activation=\"tanh\"),\n",
        "        layers.Reshape((m_bits + k_bits, 1,)),\n",
        "        layers.Conv1D(filters=2, kernel_size=4, strides=1, padding=pad,activation=\"tanh\"),\n",
        "        layers.Conv1D(filters=4, kernel_size=2, strides=2, padding=pad,activation=\"tanh\"),\n",
        "        layers.Conv1D(filters=4, kernel_size=1, strides=1, padding=pad,activation=\"tanh\"),\n",
        "        layers.Conv1D(filters=1, kernel_size=1, strides=1, padding=pad,activation=\"sigmoid\"),\n",
        "        layers.Flatten(),\n",
        "    ]\n",
        ")\n",
        "alice_model.compile(loss='mse', optimizer='sgd')\n",
        "alice=alice_model(ainput)\n",
        "\n",
        "\n",
        "##### Bob network #####\n",
        "#\n",
        "binput0 = Input(shape=(c_bits,)) #ciphertext\n",
        "binput1 = Input(shape=(k_bits,)) #key\n",
        "binput = concatenate([binput0, binput1], axis=1)\n",
        "\n",
        "bob_model = keras.Sequential(\n",
        "    [\n",
        "        layers.Dense(units=(c_bits + k_bits),activation=\"tanh\"),\n",
        "        layers.Reshape((c_bits + k_bits, 1,)),\n",
        "        layers.Conv1D(filters=2, kernel_size=4, strides=1, padding=pad,activation=\"tanh\"),\n",
        "        layers.Conv1D(filters=4, kernel_size=2, strides=2, padding=pad,activation=\"tanh\"),\n",
        "        layers.Conv1D(filters=4, kernel_size=1, strides=1, padding=pad,activation=\"tanh\"),\n",
        "        layers.Conv1D(filters=1, kernel_size=1, strides=1, padding=pad,activation=\"sigmoid\"),\n",
        "        layers.Flatten(),\n",
        "    ]\n",
        ")\n",
        "bob_model.compile(loss='mse', optimizer='sgd')\n",
        "bob=bob_model(binput)\n",
        "#bob.summary()\n",
        "\n",
        "\n",
        "# Eve network\n",
        "#\n",
        "einput = Input(shape=(c_bits,)) #ciphertext only\n",
        "eve1_model = keras.Sequential(\n",
        "    [\n",
        "        layers.Dense(units=(c_bits + k_bits),activation=\"tanh\"),\n",
        "        layers.Reshape((c_bits + k_bits, 1,)),\n",
        "        layers.Conv1D(filters=2, kernel_size=4, strides=1, padding=pad,activation=\"tanh\"),\n",
        "        layers.Conv1D(filters=4, kernel_size=2, strides=2, padding=pad,activation=\"tanh\"),\n",
        "        layers.Conv1D(filters=4, kernel_size=1, strides=1, padding=pad,activation=\"tanh\"),\n",
        "        layers.Conv1D(filters=1, kernel_size=1, strides=1, padding=pad,activation=\"sigmoid\"),\n",
        "        layers.Flatten(),\n",
        "    ]\n",
        ")\n",
        "eve1_model.compile(loss='mse', optimizer='sgd')\n",
        "eve1=eve1_model(einput)\n",
        "#eve.summary()"
      ],
      "metadata": {
        "id": "gafxntIOFuU-"
      },
      "execution_count": null,
      "outputs": []
    },
    {
      "cell_type": "markdown",
      "source": [
        "### Loss + Optimizer"
      ],
      "metadata": {
        "id": "GIqqqe7VvhIu"
      }
    },
    {
      "cell_type": "code",
      "source": [
        "aliceout = alice_model(concatenate([ainput0, ainput1],axis=1))\n",
        "bobout = bob_model( concatenate([aliceout, binput1], axis=1))\n",
        "eveout = eve1_model(aliceout)\n",
        "\n",
        "eveloss = K.mean(  K.sum(K.abs(ainput0 - eveout), axis=-1)  )\n",
        "\n",
        "\n",
        "bobloss = K.mean(  K.sum(K.abs(ainput0 - bobout), axis=-1)  )\n",
        "abeloss = bobloss + (K.square(m_bits/2 - eveloss))/( (m_bits//2)**2 )\n",
        "\n",
        "abeoptim = RMSprop(lr=0.001)\n",
        "eveoptim = RMSprop(lr=0.001) \n",
        "\n",
        "abemodel = Model([ainput0, ainput1, binput1], bobout, name='abemodel')\n",
        "abemodel.add_loss(abeloss)\n",
        "abemodel.compile(optimizer=abeoptim)\n",
        "\n",
        "alice_model.trainable = False\n",
        "eve1_model = Model([ainput0, ainput1], eveout, name='evemodel')\n",
        "eve1_model.add_loss(eveloss)\n",
        "eve1_model.compile(optimizer=eveoptim)"
      ],
      "metadata": {
        "colab": {
          "base_uri": "https://localhost:8080/"
        },
        "id": "b4DFFNteGELe",
        "outputId": "9923b8d8-7fad-41d0-a981-f83070dfad74"
      },
      "execution_count": null,
      "outputs": [
        {
          "output_type": "stream",
          "name": "stderr",
          "text": [
            "/usr/local/lib/python3.7/dist-packages/keras/optimizer_v2/rmsprop.py:130: UserWarning: The `lr` argument is deprecated, use `learning_rate` instead.\n",
            "  super(RMSprop, self).__init__(name, **kwargs)\n"
          ]
        }
      ]
    },
    {
      "cell_type": "code",
      "source": [
        "abelosses = []\n",
        "boblosses = []\n",
        "evelosses = []"
      ],
      "metadata": {
        "id": "i-MCng6FGGsw"
      },
      "execution_count": null,
      "outputs": []
    },
    {
      "cell_type": "code",
      "source": [
        "epoch_count = 20\n",
        "batch_size = 512\n",
        "n_batches = 128\n",
        "\n",
        "abecycles = 1\n",
        "evecycles = 2\n",
        "\n",
        "print(\"Training \", epoch_count, \"epochs using\", n_batches, \"batches of size\", batch_size)\n",
        "print(\"------------------------------------------------\")\n",
        "for epoch in range(1,epoch_count):\n",
        "    abe_losses = []\n",
        "    bob_losses = []\n",
        "    eve1_losses = []\n",
        "    for iteration in range(n_batches):\n",
        "        \n",
        "        # Train the A-B+E network\n",
        "        #\n",
        "        alice_model.trainable = True\n",
        "        for cycle in range(abecycles):\n",
        "            # Select a random batch of messages, and a random batch of keys\n",
        "            #\n",
        "            m_batch = np.random.randint(0, 2, m_bits * batch_size).reshape(batch_size, m_bits)\n",
        "            k_batch = np.random.randint(0, 2, k_bits * batch_size).reshape(batch_size, k_bits)\n",
        "            loss = abemodel.train_on_batch([m_batch, k_batch,k_batch], None)\n",
        "            abe_losses.append(loss)\n",
        "        abelosses.append(loss)\n",
        "        abeavg = np.mean(abe_losses)\n",
        "\n",
        "        ainp=concatenate([m_batch, k_batch], axis=1)\n",
        "        # Evaluate Bob's ability to decrypt a message\n",
        "        m_enc = alice_model.predict(ainp)\n",
        "        #print(type(m_enc),type(k_batch))\n",
        "        binp=concatenate([m_enc,tf.cast(k_batch,tf.float64)],axis=1)  \n",
        "        m_dec = bob_model.predict(binp)\n",
        "        loss = np.mean(  np.sum( np.abs(m_batch - m_dec), axis=-1)  )\n",
        "        bob_losses.append(loss)\n",
        "        boblosses.append(loss)\n",
        "        bobavg = np.mean(bob_losses)\n",
        "        \n",
        "        # Train the EVE network\n",
        "        #\n",
        "        alice_model.trainable = False\n",
        "        for cycle in range(evecycles):\n",
        "            m_batch = np.random.randint(0, 2, m_bits * batch_size).reshape(batch_size, m_bits)\n",
        "            k_batch = np.random.randint(0, 2, k_bits * batch_size).reshape(batch_size, k_bits)\n",
        "            loss = eve1_model.train_on_batch([m_batch, k_batch], None)\n",
        "            eve1_losses.append(loss)\n",
        "        evelosses.append(loss)\n",
        "        eveavg = np.mean(eve1_losses)\n",
        "       \n",
        "        \n",
        "        if iteration % max(1, (n_batches // 100)) == 0:\n",
        "            print(\"\\rEpoch {:3}: {:3}% | abe: {:2.3f} | eve: {:2.3f} | bob: {:2.3f}\".format(epoch, 100 * iteration // n_batches, abeavg, eveavg,bobavg), end=\"\")\n",
        "            sys.stdout.flush()\n",
        "    \n",
        "    print()\n",
        "    epoch += 1\n",
        "    \n",
        "print('Training finished.')"
      ],
      "metadata": {
        "colab": {
          "base_uri": "https://localhost:8080/"
        },
        "id": "PTc6jyIFGKpF",
        "outputId": "8b31f53a-c39d-4f29-ffd5-85f96ae93db7"
      },
      "execution_count": null,
      "outputs": [
        {
          "output_type": "stream",
          "name": "stdout",
          "text": [
            "Training  20 epochs using 128 batches of size 512\n",
            "------------------------------------------------\n",
            "Epoch   1:  99% | abe: 7.473 | eve: 7.853 | bob: 7.450\n",
            "Epoch   2:  99% | abe: 4.660 | eve: 6.628 | bob: 4.584\n",
            "Epoch   3:  99% | abe: 2.354 | eve: 4.696 | bob: 2.142\n",
            "Epoch   4:  99% | abe: 1.274 | eve: 2.982 | bob: 0.852\n",
            "Epoch   5:  99% | abe: 0.959 | eve: 2.048 | bob: 0.387\n",
            "Epoch   6:  99% | abe: 0.771 | eve: 2.030 | bob: 0.198\n",
            "Epoch   7:  99% | abe: 0.616 | eve: 2.518 | bob: 0.133\n",
            "Epoch   8:  99% | abe: 0.527 | eve: 2.920 | bob: 0.107\n",
            "Epoch   9:  99% | abe: 0.478 | eve: 3.202 | bob: 0.100\n",
            "Epoch  10:  99% | abe: 0.442 | eve: 3.409 | bob: 0.097\n",
            "Epoch  11:  99% | abe: 0.427 | eve: 3.576 | bob: 0.104\n",
            "Epoch  12:  99% | abe: 0.400 | eve: 3.716 | bob: 0.098\n",
            "Epoch  13:  99% | abe: 0.392 | eve: 3.837 | bob: 0.103\n",
            "Epoch  14:  99% | abe: 0.372 | eve: 3.937 | bob: 0.101\n",
            "Epoch  15:  99% | abe: 0.372 | eve: 4.002 | bob: 0.107\n",
            "Epoch  16:  99% | abe: 0.363 | eve: 4.078 | bob: 0.110\n",
            "Epoch  17:  99% | abe: 0.352 | eve: 4.129 | bob: 0.104\n",
            "Epoch  18:  99% | abe: 0.346 | eve: 4.175 | bob: 0.105\n",
            "Epoch  19:  99% | abe: 0.344 | eve: 4.240 | bob: 0.110\n",
            "Training finished.\n"
          ]
        }
      ]
    },
    {
      "cell_type": "code",
      "source": [
        "steps = -1\n",
        "\n",
        "plt.figure(figsize=(7, 4))\n",
        "plt.plot(abelosses[:steps], label='A-B')\n",
        "plt.plot(evelosses[:steps], label='Eve')\n",
        "plt.plot(boblosses[:steps], label='Bob')\n",
        "plt.xlabel(\"Iterations\", fontsize=13)\n",
        "plt.ylabel(\"Loss\", fontsize=13)\n",
        "plt.legend(fontsize=13)\n",
        "\n",
        "#plt.savefig(\"images/\" + model_name + \".png\", transparent=True) #dpi=100\n",
        "plt.show()"
      ],
      "metadata": {
        "colab": {
          "base_uri": "https://localhost:8080/",
          "height": 282
        },
        "id": "B1RAmrA6IZvK",
        "outputId": "1ff2d0db-38be-48ac-9666-cd5dea78c85a"
      },
      "execution_count": null,
      "outputs": [
        {
          "output_type": "display_data",
          "data": {
            "text/plain": [
              "<Figure size 504x288 with 1 Axes>"
            ],
            "image/png": "[encoded data removed]"
          },
          "metadata": {
            "needs_background": "light"
          }
        }
      ]
    },
    {
      "cell_type": "code",
      "source": [
        "n_examples = 10000\n",
        "\n",
        "m_batch = np.random.randint(0, 2, m_bits * n_examples).reshape(n_examples, m_bits)\n",
        "k_batch = np.random.randint(0, 2, m_bits * n_examples).reshape(n_examples, m_bits)\n",
        "ainp=concatenate([m_batch,k_batch], axis=1)\n",
        "m_enc = alice_model.predict(ainp)\n",
        "m_dec = (bob_model.predict(concatenate([m_enc, tf.cast(k_batch,tf.float64)],axis=1)) > 0.5).astype(int)\n",
        "m_att = (eve1_model.predict([m_enc,tf.cast(k_batch,tf.float64)]) > 0.5).astype(int)\n",
        "bdiff = np.abs(m_batch - m_dec)\n",
        "bsum = np.sum(bdiff, axis=-1)\n",
        "ediff = np.abs(m_batch - m_att)\n",
        "esum = np.sum(ediff, axis=-1)\n",
        "\n",
        "print(\"Bob % correct: \", 100.0*np.sum(bsum == 0) / n_examples, '%')\n",
        "print(\"Eve % correct: \", 100.0*np.sum(esum == 0) / n_examples, '%')"
      ],
      "metadata": {
        "colab": {
          "base_uri": "https://localhost:8080/"
        },
        "id": "NN5xG5kLI8gm",
        "outputId": "9e8db582-3d0f-48b9-b99c-2634f87c952b"
      },
      "execution_count": null,
      "outputs": [
        {
          "output_type": "stream",
          "name": "stdout",
          "text": [
            "Bob % correct:  93.74 %\n",
            "Eve % correct:  0.0 %\n"
          ]
        }
      ]
    },
    {
      "cell_type": "markdown",
      "source": [
        "### Improvement of Eve"
      ],
      "metadata": {
        "id": "Lzp6Mao0wykR"
      }
    },
    {
      "cell_type": "code",
      "source": [
        "alice_model.trainable = False\n",
        "\n",
        "abelosses = []\n",
        "boblosses = []\n",
        "evelosses = []"
      ],
      "metadata": {
        "id": "Hki5aWuPw6dr"
      },
      "execution_count": null,
      "outputs": []
    },
    {
      "cell_type": "code",
      "source": [
        "epoch_count = 20\n",
        "batch_size = 512\n",
        "n_batches = 128\n",
        "\n",
        "abecycles = 1\n",
        "evecycles = 2\n",
        "\n",
        "print(\"Training \", epoch_count, \"epochs using\", n_batches, \"batches of size\", batch_size)\n",
        "print(\"------------------------------------------------\")\n",
        "for epoch in range(1,epoch_count):\n",
        "    abe_losses = []\n",
        "    bob_losses = []\n",
        "    eve1_losses = []\n",
        "    for iteration in range(n_batches):\n",
        "        \n",
        "        # Train the A-B+E network\n",
        "        #\n",
        "        alice_model.trainable = True\n",
        "        for cycle in range(abecycles):\n",
        "            # Select a random batch of messages, and a random batch of keys\n",
        "            #\n",
        "            m_batch = np.random.randint(0, 2, m_bits * batch_size).reshape(batch_size, m_bits)\n",
        "            k_batch = np.random.randint(0, 2, k_bits * batch_size).reshape(batch_size, k_bits)\n",
        "            loss = abemodel.train_on_batch([m_batch, k_batch,k_batch], None)\n",
        "            abe_losses.append(loss)\n",
        "        abelosses.append(loss)\n",
        "        abeavg = np.mean(abe_losses)\n",
        "\n",
        "        ainp=concatenate([m_batch, k_batch], axis=1)\n",
        "        # Evaluate Bob's ability to decrypt a message\n",
        "        m_enc = alice_model.predict(ainp)\n",
        "        #print(type(m_enc),type(k_batch))\n",
        "        binp=concatenate([m_enc,tf.cast(k_batch,tf.float64)],axis=1)  \n",
        "        m_dec = bob_model.predict(binp)\n",
        "        loss = np.mean(  np.sum( np.abs(m_batch - m_dec), axis=-1)  )\n",
        "        bob_losses.append(loss)\n",
        "        boblosses.append(loss)\n",
        "        bobavg = np.mean(bob_losses)\n",
        "        \n",
        "        # Train the EVE network\n",
        "        #\n",
        "        alice_model.trainable = False\n",
        "        for cycle in range(evecycles):\n",
        "            m_batch = np.random.randint(0, 2, m_bits * batch_size).reshape(batch_size, m_bits)\n",
        "            k_batch = np.random.randint(0, 2, k_bits * batch_size).reshape(batch_size, k_bits)\n",
        "            loss = eve1_model.train_on_batch([m_batch, k_batch], None)\n",
        "            eve1_losses.append(loss)\n",
        "        evelosses.append(loss)\n",
        "        eveavg = np.mean(eve1_losses)\n",
        "        \n",
        "        \n",
        "        if iteration % max(1, (n_batches // 100)) == 0:\n",
        "            print(\"\\rEpoch {:3}: {:3}% | abe: {:2.3f} | eve: {:2.3f} | bob: {:2.3f}\".format(epoch, 100 * iteration // n_batches, abeavg, eveavg,bobavg), end=\"\")\n",
        "            sys.stdout.flush()\n",
        "    \n",
        "    print()\n",
        "    epoch += 1\n",
        "    \n",
        "print('Training finished.')"
      ],
      "metadata": {
        "colab": {
          "base_uri": "https://localhost:8080/"
        },
        "id": "4YV1VUCpJFVg",
        "outputId": "dc43b59a-5dba-4b46-83b0-a04da3e206e1"
      },
      "execution_count": null,
      "outputs": [
        {
          "output_type": "stream",
          "name": "stdout",
          "text": [
            "Training  20 epochs using 128 batches of size 512\n",
            "------------------------------------------------\n",
            "Epoch   1:  99% | abe: 0.332 | eve: 4.277 | bob: 0.104\n",
            "Epoch   2:  99% | abe: 0.325 | eve: 4.324 | bob: 0.100\n",
            "Epoch   3:  99% | abe: 0.320 | eve: 4.358 | bob: 0.102\n",
            "Epoch   4:  99% | abe: 0.311 | eve: 4.411 | bob: 0.100\n",
            "Epoch   5:  99% | abe: 0.306 | eve: 4.443 | bob: 0.097\n",
            "Epoch   6:  99% | abe: 0.295 | eve: 4.487 | bob: 0.095\n",
            "Epoch   7:  99% | abe: 0.293 | eve: 4.537 | bob: 0.096\n",
            "Epoch   8:  99% | abe: 0.292 | eve: 4.551 | bob: 0.099\n",
            "Epoch   9:  99% | abe: 0.284 | eve: 4.586 | bob: 0.092\n",
            "Epoch  10:  99% | abe: 0.279 | eve: 4.616 | bob: 0.090\n",
            "Epoch  11:  99% | abe: 0.279 | eve: 4.640 | bob: 0.094\n",
            "Epoch  12:  99% | abe: 0.270 | eve: 4.687 | bob: 0.090\n",
            "Epoch  13:  99% | abe: 0.265 | eve: 4.679 | bob: 0.086\n",
            "Epoch  14:  99% | abe: 0.264 | eve: 4.727 | bob: 0.088\n",
            "Epoch  15:  99% | abe: 0.259 | eve: 4.748 | bob: 0.084\n",
            "Epoch  16:  99% | abe: 0.258 | eve: 4.782 | bob: 0.089\n",
            "Epoch  17:  99% | abe: 0.250 | eve: 4.823 | bob: 0.087\n",
            "Epoch  18:  99% | abe: 0.249 | eve: 4.833 | bob: 0.084\n",
            "Epoch  19:  99% | abe: 0.246 | eve: 4.861 | bob: 0.086\n",
            "Training finished.\n"
          ]
        }
      ]
    },
    {
      "cell_type": "code",
      "source": [
        "steps = -1\n",
        "\n",
        "plt.figure(figsize=(7, 4))\n",
        "plt.plot(abelosses[:steps], label='A-B')\n",
        "plt.plot(evelosses[:steps], label='Eve')\n",
        "plt.plot(boblosses[:steps], label='Bob')\n",
        "plt.xlabel(\"Iterations\", fontsize=13)\n",
        "plt.ylabel(\"Loss\", fontsize=13)\n",
        "plt.legend(fontsize=13)\n",
        "\n",
        "#plt.savefig(\"images/\" + model_name + \"-eve1.png\", transparent=True) #dpi=100\n",
        "plt.show()"
      ],
      "metadata": {
        "colab": {
          "base_uri": "https://localhost:8080/",
          "height": 282
        },
        "id": "4X2n_xEiJYNe",
        "outputId": "35fac0b1-4838-43b9-a060-84c5b306f5bf"
      },
      "execution_count": null,
      "outputs": [
        {
          "output_type": "display_data",
          "data": {
            "text/plain": [
              "<Figure size 504x288 with 1 Axes>"
            ],
            "image/png": "[encoded data removed]"
          },
          "metadata": {
            "needs_background": "light"
          }
        }
      ]
    },
    {
      "cell_type": "code",
      "source": [
        "n_examples = 10000\n",
        "\n",
        "m_batch = np.random.randint(0, 2, m_bits * n_examples).reshape(n_examples, m_bits)\n",
        "k_batch = np.random.randint(0, 2, m_bits * n_examples).reshape(n_examples, m_bits)\n",
        "ainp=concatenate([m_batch,k_batch], axis=1)\n",
        "m_enc = alice_model.predict(ainp)\n",
        "m_dec = (bob_model.predict(concatenate([m_enc, tf.cast(k_batch,tf.float64)],axis=1)) > 0.5).astype(int)\n",
        "m_att = (eve1_model.predict([m_enc,tf.cast(k_batch,tf.float64)]) > 0.5).astype(int)\n",
        "bdiff = np.abs(m_batch - m_dec)\n",
        "bsum = np.sum(bdiff, axis=-1)\n",
        "ediff = np.abs(m_batch - m_att)\n",
        "esum = np.sum(ediff, axis=-1)\n",
        "\n",
        "print(\"Bob % correct: \", 100.0*np.sum(bsum == 0) / n_examples, '%')\n",
        "print(\"Eve % correct: \", 100.0*np.sum(esum == 0) / n_examples, '%')"
      ],
      "metadata": {
        "colab": {
          "base_uri": "https://localhost:8080/"
        },
        "id": "SiEWAY3bJeiE",
        "outputId": "56335f86-15a5-46a9-98dd-c555bbe7f5d0"
      },
      "execution_count": null,
      "outputs": [
        {
          "output_type": "stream",
          "name": "stdout",
          "text": [
            "Bob % correct:  85.05 %\n",
            "Eve % correct:  0.0 %\n"
          ]
        }
      ]
    }
  ]
}