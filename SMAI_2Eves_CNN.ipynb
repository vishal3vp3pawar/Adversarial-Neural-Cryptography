{
  "cells": [
    {
      "cell_type": "markdown",
      "metadata": {
        "id": "usD1Wtm9Bqj2"
      },
      "source": [
        "# Setup"
      ]
    },
    {
      "cell_type": "code",
      "source": [
        "!pip install gmpy2\n",
        "!pip install tensorflow"
      ],
      "metadata": {
        "colab": {
          "base_uri": "https://localhost:8080/"
        },
        "id": "zfJ2Fr5_B5rj",
        "outputId": "f8ffd0e8-7090-4f44-83f5-b3759578b7f0"
      },
      "execution_count": null,
      "outputs": [
        {
          "output_type": "stream",
          "name": "stdout",
          "text": [
            "Collecting gmpy2\n",
            "  Downloading gmpy2-2.1.2-cp37-cp37m-manylinux_2_17_x86_64.manylinux2014_x86_64.whl (3.6 MB)\n",
            "\u001b[K     |████████████████████████████████| 3.6 MB 9.6 MB/s \n",
            "\u001b[?25hInstalling collected packages: gmpy2\n",
            "Successfully installed gmpy2-2.1.2\n",
            "Requirement already satisfied: tensorflow in /usr/local/lib/python3.7/dist-packages (2.8.0)\n",
            "Requirement already satisfied: protobuf>=3.9.2 in /usr/local/lib/python3.7/dist-packages (from tensorflow) (3.17.3)\n",
            "Requirement already satisfied: wrapt>=1.11.0 in /usr/local/lib/python3.7/dist-packages (from tensorflow) (1.14.0)\n",
            "Requirement already satisfied: google-pasta>=0.1.1 in /usr/local/lib/python3.7/dist-packages (from tensorflow) (0.2.0)\n",
            "Collecting tf-estimator-nightly==2.8.0.dev2021122109\n",
            "  Downloading tf_estimator_nightly-2.8.0.dev2021122109-py2.py3-none-any.whl (462 kB)\n",
            "\u001b[K     |████████████████████████████████| 462 kB 4.5 MB/s \n",
            "\u001b[?25hRequirement already satisfied: tensorflow-io-gcs-filesystem>=0.23.1 in /usr/local/lib/python3.7/dist-packages (from tensorflow) (0.25.0)\n",
            "Requirement already satisfied: h5py>=2.9.0 in /usr/local/lib/python3.7/dist-packages (from tensorflow) (3.1.0)\n",
            "Requirement already satisfied: opt-einsum>=2.3.2 in /usr/local/lib/python3.7/dist-packages (from tensorflow) (3.3.0)\n",
            "Requirement already satisfied: grpcio<2.0,>=1.24.3 in /usr/local/lib/python3.7/dist-packages (from tensorflow) (1.44.0)\n",
            "Requirement already satisfied: absl-py>=0.4.0 in /usr/local/lib/python3.7/dist-packages (from tensorflow) (1.0.0)\n",
            "Requirement already satisfied: termcolor>=1.1.0 in /usr/local/lib/python3.7/dist-packages (from tensorflow) (1.1.0)\n",
            "Requirement already satisfied: tensorboard<2.9,>=2.8 in /usr/local/lib/python3.7/dist-packages (from tensorflow) (2.8.0)\n",
            "Requirement already satisfied: flatbuffers>=1.12 in /usr/local/lib/python3.7/dist-packages (from tensorflow) (2.0)\n",
            "Requirement already satisfied: gast>=0.2.1 in /usr/local/lib/python3.7/dist-packages (from tensorflow) (0.5.3)\n",
            "Requirement already satisfied: numpy>=1.20 in /usr/local/lib/python3.7/dist-packages (from tensorflow) (1.21.6)\n",
            "Requirement already satisfied: libclang>=9.0.1 in /usr/local/lib/python3.7/dist-packages (from tensorflow) (14.0.1)\n",
            "Requirement already satisfied: setuptools in /usr/local/lib/python3.7/dist-packages (from tensorflow) (57.4.0)\n",
            "Requirement already satisfied: six>=1.12.0 in /usr/local/lib/python3.7/dist-packages (from tensorflow) (1.15.0)\n",
            "Requirement already satisfied: astunparse>=1.6.0 in /usr/local/lib/python3.7/dist-packages (from tensorflow) (1.6.3)\n",
            "Requirement already satisfied: keras-preprocessing>=1.1.1 in /usr/local/lib/python3.7/dist-packages (from tensorflow) (1.1.2)\n",
            "Requirement already satisfied: keras<2.9,>=2.8.0rc0 in /usr/local/lib/python3.7/dist-packages (from tensorflow) (2.8.0)\n",
            "Requirement already satisfied: typing-extensions>=3.6.6 in /usr/local/lib/python3.7/dist-packages (from tensorflow) (4.2.0)\n",
            "Requirement already satisfied: wheel<1.0,>=0.23.0 in /usr/local/lib/python3.7/dist-packages (from astunparse>=1.6.0->tensorflow) (0.37.1)\n",
            "Requirement already satisfied: cached-property in /usr/local/lib/python3.7/dist-packages (from h5py>=2.9.0->tensorflow) (1.5.2)\n",
            "Requirement already satisfied: requests<3,>=2.21.0 in /usr/local/lib/python3.7/dist-packages (from tensorboard<2.9,>=2.8->tensorflow) (2.23.0)\n",
            "Requirement already satisfied: google-auth<3,>=1.6.3 in /usr/local/lib/python3.7/dist-packages (from tensorboard<2.9,>=2.8->tensorflow) (1.35.0)\n",
            "Requirement already satisfied: tensorboard-plugin-wit>=1.6.0 in /usr/local/lib/python3.7/dist-packages (from tensorboard<2.9,>=2.8->tensorflow) (1.8.1)\n",
            "Requirement already satisfied: werkzeug>=0.11.15 in /usr/local/lib/python3.7/dist-packages (from tensorboard<2.9,>=2.8->tensorflow) (1.0.1)\n",
            "Requirement already satisfied: tensorboard-data-server<0.7.0,>=0.6.0 in /usr/local/lib/python3.7/dist-packages (from tensorboard<2.9,>=2.8->tensorflow) (0.6.1)\n",
            "Requirement already satisfied: markdown>=2.6.8 in /usr/local/lib/python3.7/dist-packages (from tensorboard<2.9,>=2.8->tensorflow) (3.3.6)\n",
            "Requirement already satisfied: google-auth-oauthlib<0.5,>=0.4.1 in /usr/local/lib/python3.7/dist-packages (from tensorboard<2.9,>=2.8->tensorflow) (0.4.6)\n",
            "Requirement already satisfied: rsa<5,>=3.1.4 in /usr/local/lib/python3.7/dist-packages (from google-auth<3,>=1.6.3->tensorboard<2.9,>=2.8->tensorflow) (4.8)\n",
            "Requirement already satisfied: pyasn1-modules>=0.2.1 in /usr/local/lib/python3.7/dist-packages (from google-auth<3,>=1.6.3->tensorboard<2.9,>=2.8->tensorflow) (0.2.8)\n",
            "Requirement already satisfied: cachetools<5.0,>=2.0.0 in /usr/local/lib/python3.7/dist-packages (from google-auth<3,>=1.6.3->tensorboard<2.9,>=2.8->tensorflow) (4.2.4)\n",
            "Requirement already satisfied: requests-oauthlib>=0.7.0 in /usr/local/lib/python3.7/dist-packages (from google-auth-oauthlib<0.5,>=0.4.1->tensorboard<2.9,>=2.8->tensorflow) (1.3.1)\n",
            "Requirement already satisfied: importlib-metadata>=4.4 in /usr/local/lib/python3.7/dist-packages (from markdown>=2.6.8->tensorboard<2.9,>=2.8->tensorflow) (4.11.3)\n",
            "Requirement already satisfied: zipp>=0.5 in /usr/local/lib/python3.7/dist-packages (from importlib-metadata>=4.4->markdown>=2.6.8->tensorboard<2.9,>=2.8->tensorflow) (3.8.0)\n",
            "Requirement already satisfied: pyasn1<0.5.0,>=0.4.6 in /usr/local/lib/python3.7/dist-packages (from pyasn1-modules>=0.2.1->google-auth<3,>=1.6.3->tensorboard<2.9,>=2.8->tensorflow) (0.4.8)\n",
            "Requirement already satisfied: chardet<4,>=3.0.2 in /usr/local/lib/python3.7/dist-packages (from requests<3,>=2.21.0->tensorboard<2.9,>=2.8->tensorflow) (3.0.4)\n",
            "Requirement already satisfied: certifi>=2017.4.17 in /usr/local/lib/python3.7/dist-packages (from requests<3,>=2.21.0->tensorboard<2.9,>=2.8->tensorflow) (2021.10.8)\n",
            "Requirement already satisfied: idna<3,>=2.5 in /usr/local/lib/python3.7/dist-packages (from requests<3,>=2.21.0->tensorboard<2.9,>=2.8->tensorflow) (2.10)\n",
            "Requirement already satisfied: urllib3!=1.25.0,!=1.25.1,<1.26,>=1.21.1 in /usr/local/lib/python3.7/dist-packages (from requests<3,>=2.21.0->tensorboard<2.9,>=2.8->tensorflow) (1.24.3)\n",
            "Requirement already satisfied: oauthlib>=3.0.0 in /usr/local/lib/python3.7/dist-packages (from requests-oauthlib>=0.7.0->google-auth-oauthlib<0.5,>=0.4.1->tensorboard<2.9,>=2.8->tensorflow) (3.2.0)\n",
            "Installing collected packages: tf-estimator-nightly\n",
            "Successfully installed tf-estimator-nightly-2.8.0.dev2021122109\n"
          ]
        }
      ]
    },
    {
      "cell_type": "code",
      "execution_count": null,
      "metadata": {
        "ExecuteTime": {
          "end_time": "2018-10-24T17:54:08.549521Z",
          "start_time": "2018-10-24T17:54:08.541543Z"
        },
        "id": "y0nkNswVBqj6"
      },
      "outputs": [],
      "source": [
        "%matplotlib inline\n",
        "\n",
        "import ctypes\n",
        "import gmpy2\n",
        "from gmpy2 import mpz\n",
        "import matplotlib\n",
        "import matplotlib.pyplot as plt\n",
        "import numpy as np\n",
        "import pandas as pd\n",
        "import sys\n",
        "import keras\n",
        "import tensorflow as tf\n",
        "from tensorflow.keras import layers\n",
        "from keras import backend as K\n",
        "from keras.models import Model\n",
        "from keras.engine.input_layer import Input\n",
        "from keras.layers.core import Activation, Dense\n",
        "from keras.layers import Flatten, Reshape\n",
        "from keras.layers.convolutional import Conv1D\n",
        "from keras.layers.merge import concatenate\n",
        "from tensorflow.keras.optimizers import Adam, RMSprop\n",
        "from keras.models import load_model"
      ]
    },
    {
      "cell_type": "markdown",
      "metadata": {
        "id": "X1dlwCIkBqkA"
      },
      "source": [
        "# Symmetric (secret-key) encryption"
      ]
    },
    {
      "cell_type": "markdown",
      "metadata": {
        "id": "7SCHPdvIBqkA"
      },
      "source": [
        "\n",
        "### Two-Eve Model\n",
        "\n",
        "In the CNN model built using 1 eve(adversary) the accuracy or strength of encryption depended mainly on eve's capability to reconstruct the original plaintext. But since we were using only 1 eve, the efficiency of the model was only dependent on eve loss. Hence alice could forget the involvement of the secret key entirely since the loss function did not take the key into account.\n",
        "\n",
        "\n",
        "Hence we are introducing here another adversary:- eve2 whose sole purpose is to recover the secret key.In this new model, we have two attackers Eve1 and Eve2 with different attacking goals. Eve1 focuses on recovering the plaintext and Eve2’s goal is to recover the secret key. In this model, Alice cannot simply ignore the involve-ment of the secret key due to the existence of Eve."
      ]
    },
    {
      "cell_type": "code",
      "execution_count": null,
      "metadata": {
        "ExecuteTime": {
          "end_time": "2018-10-24T16:55:24.834360Z",
          "start_time": "2018-10-24T16:55:24.830369Z"
        },
        "id": "UV71Ha--BqkC"
      },
      "outputs": [],
      "source": [
        "m_bits = 16\n",
        "k_bits = 16\n",
        "c_bits = 16\n",
        "pad = 'same'\n",
        "\n",
        "m_train = (m_bits+ k_bits)"
      ]
    },
    {
      "cell_type": "markdown",
      "metadata": {
        "id": "2_NPJ7yNBqkD"
      },
      "source": [
        "### Architecture"
      ]
    },
    {
      "cell_type": "code",
      "execution_count": null,
      "metadata": {
        "ExecuteTime": {
          "end_time": "2018-10-24T17:40:45.280385Z",
          "start_time": "2018-10-24T17:40:45.004123Z"
        },
        "id": "aJBWwm00BqkE"
      },
      "outputs": [],
      "source": [
        "K.clear_session()\n",
        "\n",
        "##### Alice network #####\n",
        "#\n",
        "ainput0 = Input(shape=(m_bits,)) #message\n",
        "ainput1 = Input(shape=(k_bits,)) #key\n",
        "ainput = concatenate([ainput0, ainput1], axis=1)\n",
        "\n",
        "\n",
        "alice_model = keras.Sequential(\n",
        "    [\n",
        "        layers.Dense(units=(m_bits + k_bits),activation=\"tanh\"),\n",
        "        layers.Reshape((m_bits + k_bits, 1,)),\n",
        "        layers.Conv1D(filters=2, kernel_size=4, strides=1, padding=pad,activation=\"tanh\"),\n",
        "        layers.Conv1D(filters=4, kernel_size=2, strides=2, padding=pad,activation=\"tanh\"),\n",
        "        layers.Conv1D(filters=4, kernel_size=1, strides=1, padding=pad,activation=\"tanh\"),\n",
        "        layers.Conv1D(filters=1, kernel_size=1, strides=1, padding=pad,activation=\"sigmoid\"),\n",
        "        layers.Flatten(),\n",
        "    ]\n",
        ")\n",
        "alice_model.compile(loss='mse', optimizer='sgd')\n",
        "alice=alice_model(ainput)\n",
        "\n",
        "\n",
        "##### Bob network #####\n",
        "#\n",
        "binput0 = Input(shape=(c_bits,)) #ciphertext\n",
        "binput1 = Input(shape=(k_bits,)) #key\n",
        "binput = concatenate([binput0, binput1], axis=1)\n",
        "\n",
        "bob_model = keras.Sequential(\n",
        "    [\n",
        "        layers.Dense(units=(c_bits + k_bits),activation=\"tanh\"),\n",
        "        layers.Reshape((c_bits + k_bits, 1,)),\n",
        "        layers.Conv1D(filters=2, kernel_size=4, strides=1, padding=pad,activation=\"tanh\"),\n",
        "        layers.Conv1D(filters=4, kernel_size=2, strides=2, padding=pad,activation=\"tanh\"),\n",
        "        layers.Conv1D(filters=4, kernel_size=1, strides=1, padding=pad,activation=\"tanh\"),\n",
        "        layers.Conv1D(filters=1, kernel_size=1, strides=1, padding=pad,activation=\"sigmoid\"),\n",
        "        layers.Flatten(),\n",
        "    ]\n",
        ")\n",
        "bob_model.compile(loss='mse', optimizer='sgd')\n",
        "bob=bob_model(binput)\n",
        "#bob.summary()\n",
        "\n",
        "\n",
        "# Eve network\n",
        "#\n",
        "einput = Input(shape=(c_bits,)) #ciphertext only\n",
        "eve1_model = keras.Sequential(\n",
        "    [\n",
        "        layers.Dense(units=(c_bits + k_bits),activation=\"tanh\"),\n",
        "        layers.Reshape((c_bits + k_bits, 1,)),\n",
        "        layers.Conv1D(filters=2, kernel_size=4, strides=1, padding=pad,activation=\"tanh\"),\n",
        "        layers.Conv1D(filters=4, kernel_size=2, strides=2, padding=pad,activation=\"tanh\"),\n",
        "        layers.Conv1D(filters=4, kernel_size=1, strides=1, padding=pad,activation=\"tanh\"),\n",
        "        layers.Conv1D(filters=1, kernel_size=1, strides=1, padding=pad,activation=\"sigmoid\"),\n",
        "        layers.Flatten(),\n",
        "    ]\n",
        ")\n",
        "eve1_model.compile(loss='mse', optimizer='sgd')\n",
        "eve1=eve1_model(einput)\n",
        "#eve.summary()\n",
        "\n",
        "# Eve2 network\n",
        "#\n",
        "einput2 = Input(shape=(k_bits,)) #key only\n",
        "eve2_model = keras.Sequential(\n",
        "    [\n",
        "        layers.Dense(units=(c_bits + k_bits),activation=\"tanh\"),\n",
        "        layers.Dense(units=(c_bits + k_bits),activation=\"tanh\"),\n",
        "        layers.Reshape((c_bits + k_bits, 1,)),\n",
        "        layers.Conv1D(filters=2, kernel_size=4, strides=1, padding=pad,activation=\"tanh\"),\n",
        "        layers.Conv1D(filters=4, kernel_size=2, strides=2, padding=pad,activation=\"tanh\"),\n",
        "        layers.Conv1D(filters=4, kernel_size=1, strides=1, padding=pad,activation=\"tanh\"),\n",
        "        layers.Conv1D(filters=1, kernel_size=1, strides=1, padding=pad,activation=\"sigmoid\"),\n",
        "        layers.Flatten(),\n",
        "    ]\n",
        ")\n",
        "eve2_model.compile(loss='mse', optimizer='sgd')\n",
        "eve2=eve2_model(einput2)"
      ]
    },
    {
      "cell_type": "markdown",
      "metadata": {
        "id": "Vbg3_b9oBqkI"
      },
      "source": [
        "### Loss + Optimizer"
      ]
    },
    {
      "cell_type": "code",
      "execution_count": null,
      "metadata": {
        "ExecuteTime": {
          "end_time": "2018-10-24T16:55:31.515986Z",
          "start_time": "2018-10-24T16:55:31.340478Z"
        },
        "colab": {
          "base_uri": "https://localhost:8080/"
        },
        "id": "MdbYB8_CBqkJ",
        "outputId": "8917776b-9a35-4219-b4ff-62b2fa851e51"
      },
      "outputs": [
        {
          "output_type": "stream",
          "name": "stderr",
          "text": [
            "/usr/local/lib/python3.7/dist-packages/keras/optimizer_v2/rmsprop.py:130: UserWarning: The `lr` argument is deprecated, use `learning_rate` instead.\n",
            "  super(RMSprop, self).__init__(name, **kwargs)\n"
          ]
        }
      ],
      "source": [
        "aliceout = alice_model(concatenate([ainput0, ainput1],axis=1))\n",
        "bobout = bob_model( concatenate([aliceout, binput1], axis=1))\n",
        "eveout = eve1_model(aliceout)\n",
        "eve2out = eve2_model(aliceout)\n",
        "\n",
        "eveloss = K.mean(  K.sum(K.abs(ainput0 - eveout), axis=-1)  )\n",
        "eve2loss = K.mean(  K.sum(K.abs(ainput1 - eve2out), axis=-1)  )\n",
        "\n",
        "bobloss = K.mean(  K.sum(K.abs(ainput0 - bobout), axis=-1)  )\n",
        "abeloss = bobloss + (K.square(m_bits/2 - eveloss)+K.square(k_bits/2- eve2loss))/( (m_bits//2)**2 )\n",
        "\n",
        "abeoptim = RMSprop(lr=0.001)\n",
        "eveoptim = RMSprop(lr=0.001) \n",
        "eveoptim2 = RMSprop(lr=0.001) \n",
        "\n",
        "abemodel = Model([ainput0, ainput1, binput1], bobout, name='abemodel')\n",
        "abemodel.add_loss(abeloss)\n",
        "abemodel.compile(optimizer=abeoptim)\n",
        "\n",
        "alice_model.trainable = False\n",
        "eve1_model = Model([ainput0, ainput1], eveout, name='evemodel')\n",
        "eve1_model.add_loss(eveloss)\n",
        "eve1_model.compile(optimizer=eveoptim)\n",
        "\n",
        "alice_model.trainable = False\n",
        "eve2_model = Model([ainput0, ainput1], eve2out, name='eve2model')\n",
        "eve2_model.add_loss(eve2loss)\n",
        "eve2_model.compile(optimizer=eveoptim2)"
      ]
    },
    {
      "cell_type": "markdown",
      "metadata": {
        "id": "F2dnh_NZBqkK"
      },
      "source": [
        "### Train / save / restore"
      ]
    },
    {
      "cell_type": "code",
      "execution_count": null,
      "metadata": {
        "ExecuteTime": {
          "end_time": "2018-10-24T16:25:54.442748Z",
          "start_time": "2018-10-24T16:25:54.438759Z"
        },
        "id": "VKRWqQjbBqkK"
      },
      "outputs": [],
      "source": [
        "abelosses = []\n",
        "boblosses = []\n",
        "evelosses = []\n",
        "eve2losses = []"
      ]
    },
    {
      "cell_type": "code",
      "execution_count": null,
      "metadata": {
        "ExecuteTime": {
          "end_time": "2018-10-20T13:34:58.910922Z",
          "start_time": "2018-10-20T13:32:12.794003Z"
        },
        "colab": {
          "base_uri": "https://localhost:8080/"
        },
        "id": "EGSutYxvBqkK",
        "outputId": "4b29337e-97ee-4879-8b6e-c85b9d493193"
      },
      "outputs": [
        {
          "output_type": "stream",
          "name": "stdout",
          "text": [
            "Training  20 epochs using 128 batches of size 512\n",
            "------------------------------------------------\n",
            "Epoch   1:  99% | abe: 7.789 | eve1: 7.902 | eve2: 7.875| bob: 7.776\n",
            "Epoch   2:  99% | abe: 5.836 | eve1: 7.093 | eve2: 7.493| bob: 5.785\n",
            "Epoch   3:  99% | abe: 3.680 | eve1: 5.527 | eve2: 7.185| bob: 3.535\n",
            "Epoch   4:  99% | abe: 2.183 | eve1: 3.849 | eve2: 7.047| bob: 1.860\n",
            "Epoch   5:  99% | abe: 1.239 | eve1: 2.616 | eve2: 6.980| bob: 0.742\n",
            "Epoch   6:  99% | abe: 0.834 | eve1: 2.124 | eve2: 6.772| bob: 0.254\n",
            "Epoch   7:  99% | abe: 0.705 | eve1: 2.346 | eve2: 6.337| bob: 0.144\n",
            "Epoch   8:  99% | abe: 0.617 | eve1: 2.767 | eve2: 5.866| bob: 0.100\n",
            "Epoch   9:  99% | abe: 0.565 | eve1: 3.135 | eve2: 5.446| bob: 0.077\n",
            "Epoch  10:  99% | abe: 0.557 | eve1: 3.321 | eve2: 5.094| bob: 0.064\n",
            "Epoch  11:  99% | abe: 0.572 | eve1: 3.400 | eve2: 4.777| bob: 0.059\n",
            "Epoch  12:  99% | abe: 0.588 | eve1: 3.407 | eve2: 4.532| bob: 0.051\n",
            "Epoch  13:  99% | abe: 0.609 | eve1: 3.393 | eve2: 4.386| bob: 0.053\n",
            "Epoch  14:  99% | abe: 0.620 | eve1: 3.367 | eve2: 4.301| bob: 0.050\n",
            "Epoch  15:  99% | abe: 0.633 | eve1: 3.345 | eve2: 4.243| bob: 0.052\n",
            "Epoch  16:  99% | abe: 0.641 | eve1: 3.332 | eve2: 4.184| bob: 0.052\n",
            "Epoch  17:  99% | abe: 0.641 | eve1: 3.365 | eve2: 4.130| bob: 0.052\n",
            "Epoch  18:  99% | abe: 0.640 | eve1: 3.368 | eve2: 4.121| bob: 0.050\n",
            "Epoch  19:  99% | abe: 0.644 | eve1: 3.404 | eve2: 4.099| bob: 0.055\n",
            "Training finished.\n"
          ]
        }
      ],
      "source": [
        "epoch_count = 20\n",
        "batch_size = 512\n",
        "n_batches = 128\n",
        "\n",
        "abecycles = 1\n",
        "evecycles = 2\n",
        "\n",
        "print(\"Training \", epoch_count, \"epochs using\", n_batches, \"batches of size\", batch_size)\n",
        "print(\"------------------------------------------------\")\n",
        "for epoch in range(1,epoch_count):\n",
        "    abe_losses = []\n",
        "    bob_losses = []\n",
        "    eve1_losses = []\n",
        "    eve2_losses = []\n",
        "    for iteration in range(n_batches):\n",
        "        \n",
        "        # Train the A-B+E network\n",
        "        #\n",
        "        alice_model.trainable = True\n",
        "        for cycle in range(abecycles):\n",
        "            # Select a random batch of messages, and a random batch of keys\n",
        "            #\n",
        "            m_batch = np.random.randint(0, 2, m_bits * batch_size).reshape(batch_size, m_bits)\n",
        "            k_batch = np.random.randint(0, 2, k_bits * batch_size).reshape(batch_size, k_bits)\n",
        "            loss = abemodel.train_on_batch([m_batch, k_batch,k_batch], None)\n",
        "            abe_losses.append(loss)\n",
        "        abelosses.append(loss)\n",
        "        abeavg = np.mean(abe_losses)\n",
        "\n",
        "        ainp=concatenate([m_batch, k_batch], axis=1)\n",
        "        # Evaluate Bob's ability to decrypt a message\n",
        "        m_enc = alice_model.predict(ainp)\n",
        "        #print(type(m_enc),type(k_batch))\n",
        "        binp=concatenate([m_enc,tf.cast(k_batch,tf.float64)],axis=1)  \n",
        "        m_dec = bob_model.predict(binp)\n",
        "        loss = np.mean(  np.sum( np.abs(m_batch - m_dec), axis=-1)  )\n",
        "        bob_losses.append(loss)\n",
        "        boblosses.append(loss)\n",
        "        bobavg = np.mean(bob_losses)\n",
        "        \n",
        "        # Train the EVE network\n",
        "        #\n",
        "        alice_model.trainable = False\n",
        "        for cycle in range(evecycles):\n",
        "            m_batch = np.random.randint(0, 2, m_bits * batch_size).reshape(batch_size, m_bits)\n",
        "            k_batch = np.random.randint(0, 2, k_bits * batch_size).reshape(batch_size, k_bits)\n",
        "            loss = eve1_model.train_on_batch([m_batch, k_batch], None)\n",
        "            eve1_losses.append(loss)\n",
        "        evelosses.append(loss)\n",
        "        eveavg = np.mean(eve1_losses)\n",
        "        # Train the EVE2 network\n",
        "        #\n",
        "        alice_model.trainable = False\n",
        "        for cycle in range(evecycles):\n",
        "            m_batch = np.random.randint(0, 2, m_bits * batch_size).reshape(batch_size, m_bits)\n",
        "            k_batch = np.random.randint(0, 2, k_bits * batch_size).reshape(batch_size, k_bits)\n",
        "            loss = eve2_model.train_on_batch([m_batch, k_batch], None)\n",
        "            eve2_losses.append(loss)\n",
        "        eve2losses.append(loss)\n",
        "        eve2avg = np.mean(eve2_losses)\n",
        "        \n",
        "        if iteration % max(1, (n_batches // 100)) == 0:\n",
        "            print(\"\\rEpoch {:3}: {:3}% | abe: {:2.3f} | eve1: {:2.3f} | eve2: {:2.3f}| bob: {:2.3f}\".format(epoch, 100 * iteration // n_batches, abeavg, eveavg, eve2avg,bobavg), end=\"\")\n",
        "            sys.stdout.flush()\n",
        "    \n",
        "    print()\n",
        "    epoch += 1\n",
        "    \n",
        "print('Training finished.')"
      ]
    },
    {
      "cell_type": "code",
      "execution_count": null,
      "metadata": {
        "ExecuteTime": {
          "end_time": "2018-10-20T13:35:32.154853Z",
          "start_time": "2018-10-20T13:35:31.667925Z"
        },
        "colab": {
          "base_uri": "https://localhost:8080/",
          "height": 282
        },
        "id": "mDEIB8YpBqkN",
        "outputId": "0e5490e1-27cb-4a69-dee6-7aa40d5e7e42"
      },
      "outputs": [
        {
          "output_type": "display_data",
          "data": {
            "text/plain": [
              "<Figure size 504x288 with 1 Axes>"
            ],
            "image/png": "[encoded data removed]"
          },
          "metadata": {
            "needs_background": "light"
          }
        }
      ],
      "source": [
        "def plot4(abelosses,evelosses,eve2losses,boblosses):\n",
        "    steps = -1\n",
        "    plt.figure(figsize=(7, 4))\n",
        "    plt.plot(abelosses[:steps], label='A-B')\n",
        "    plt.plot(evelosses[:steps], label='Eve')\n",
        "    plt.plot(eve2losses[:steps], label='Eve2')\n",
        "    plt.plot(boblosses[:steps], label='Bob')\n",
        "    plt.xlabel(\"Iterations\", fontsize=13)\n",
        "    plt.ylabel(\"Loss\", fontsize=13)\n",
        "    plt.legend(fontsize=13)\n",
        "\n",
        "    #plt.savefig(\"images/\" + model_name + \".png\", transparent=True) #dpi=100\n",
        "    plt.show()\n",
        "plot4(abelosses,evelosses,eve2losses,boblosses)"
      ]
    },
    {
      "cell_type": "markdown",
      "metadata": {
        "id": "wsAmuyKXBqkP"
      },
      "source": [
        "### Evaluate"
      ]
    },
    {
      "cell_type": "code",
      "execution_count": null,
      "metadata": {
        "ExecuteTime": {
          "end_time": "2018-10-24T17:50:10.371092Z",
          "start_time": "2018-10-24T17:50:08.651549Z"
        },
        "colab": {
          "base_uri": "https://localhost:8080/"
        },
        "id": "VyVT3_NfBqkP",
        "outputId": "3686b912-235a-4640-e6d3-957217a6ed5e"
      },
      "outputs": [
        {
          "output_type": "stream",
          "name": "stdout",
          "text": [
            "Bob % correct:  98.45 %\n",
            "Eve % correct:  0.0 %\n",
            "Eve2 key reconstruct % correct:  2.0 %\n"
          ]
        }
      ],
      "source": [
        "n_examples = 10000\n",
        "\n",
        "m_batch = np.random.randint(0, 2, m_bits * n_examples).reshape(n_examples, m_bits)\n",
        "k_batch = np.random.randint(0, 2, m_bits * n_examples).reshape(n_examples, m_bits)\n",
        "ainp=concatenate([m_batch,k_batch], axis=1)\n",
        "m_enc = alice_model.predict(ainp)\n",
        "m_dec = (bob_model.predict(concatenate([m_enc, tf.cast(k_batch,tf.float64)],axis=1)) > 0.5).astype(int)\n",
        "m_att = (eve1_model.predict([m_enc,tf.cast(k_batch,tf.float64)]) > 0.5).astype(int)\n",
        "k_att = (eve2_model.predict([m_enc,tf.cast(k_batch,tf.float64)]) > 0.5).astype(int)\n",
        "bdiff = np.abs(m_batch - m_dec)\n",
        "bsum = np.sum(bdiff, axis=-1)\n",
        "ediff = np.abs(m_batch - m_att)\n",
        "esum = np.sum(ediff, axis=-1)\n",
        "ediff2 = np.abs(k_batch - k_att)\n",
        "esum2 = np.sum(ediff2, axis=-1)\n",
        "\n",
        "print(\"Bob % correct: \", 100.0*np.sum(bsum == 0) / n_examples, '%')\n",
        "print(\"Eve % correct: \", 100.0*np.sum(esum == 0) / n_examples, '%')\n",
        "print(\"Eve2 key reconstruct % correct: \", 100.0*np.sum(esum2 == 0) / n_examples, '%')"
      ]
    },
    {
      "cell_type": "markdown",
      "metadata": {
        "id": "UbVvwL-IBqkP"
      },
      "source": [
        "\n",
        "\n",
        "### Improvement of Eve"
      ]
    },
    {
      "cell_type": "code",
      "execution_count": null,
      "metadata": {
        "ExecuteTime": {
          "end_time": "2018-10-24T17:40:52.452236Z",
          "start_time": "2018-10-24T17:40:52.185923Z"
        },
        "id": "b5BuU_q-BqkQ"
      },
      "outputs": [],
      "source": [
        "alice_model.trainable = False\n",
        "\n",
        "abelosses = []\n",
        "boblosses = []\n",
        "evelosses = []\n",
        "eve2losses=[]"
      ]
    },
    {
      "cell_type": "code",
      "execution_count": null,
      "metadata": {
        "ExecuteTime": {
          "end_time": "2018-10-24T17:42:53.191446Z",
          "start_time": "2018-10-24T17:40:52.740728Z"
        },
        "colab": {
          "base_uri": "https://localhost:8080/"
        },
        "id": "ncnfsKotBqkQ",
        "outputId": "12349c24-aaea-4f08-be91-b9d8cf1194bd"
      },
      "outputs": [
        {
          "output_type": "stream",
          "name": "stdout",
          "text": [
            "Training  20 epochs using 128 batches of size 512\n",
            "------------------------------------------------\n",
            "Epoch   1:  99% | abe: 0.646 | eve1: 3.425 | eve2: 4.064| bob: 0.054\n",
            "Epoch   2:  99% | abe: 0.645 | eve1: 3.447 | eve2: 4.045| bob: 0.057\n",
            "Epoch   3:  99% | abe: 0.643 | eve1: 3.479 | eve2: 4.000| bob: 0.054\n",
            "Epoch   4:  99% | abe: 0.652 | eve1: 3.496 | eve2: 3.978| bob: 0.057\n",
            "Epoch   5:  99% | abe: 0.657 | eve1: 3.479 | eve2: 3.967| bob: 0.062\n",
            "Epoch   6:  99% | abe: 0.654 | eve1: 3.505 | eve2: 3.938| bob: 0.064\n",
            "Epoch   7:  99% | abe: 0.656 | eve1: 3.544 | eve2: 3.931| bob: 0.064\n",
            "Epoch   8:  99% | abe: 0.652 | eve1: 3.557 | eve2: 3.930| bob: 0.064\n",
            "Epoch   9:  99% | abe: 0.649 | eve1: 3.603 | eve2: 3.891| bob: 0.059\n",
            "Epoch  10:  99% | abe: 0.661 | eve1: 3.643 | eve2: 3.784| bob: 0.062\n",
            "Epoch  11:  99% | abe: 0.669 | eve1: 3.616 | eve2: 3.682| bob: 0.056\n",
            "Epoch  12:  99% | abe: 0.676 | eve1: 3.560 | eve2: 3.653| bob: 0.051\n",
            "Epoch  13:  99% | abe: 0.681 | eve1: 3.556 | eve2: 3.627| bob: 0.053\n",
            "Epoch  14:  99% | abe: 0.681 | eve1: 3.570 | eve2: 3.639| bob: 0.058\n",
            "Epoch  15:  99% | abe: 0.669 | eve1: 3.560 | eve2: 3.693| bob: 0.049\n",
            "Epoch  16:  99% | abe: 0.661 | eve1: 3.575 | eve2: 3.705| bob: 0.050\n",
            "Epoch  17:  99% | abe: 0.650 | eve1: 3.614 | eve2: 3.760| bob: 0.046\n",
            "Epoch  18:  99% | abe: 0.646 | eve1: 3.615 | eve2: 3.775| bob: 0.050\n",
            "Epoch  19:  99% | abe: 0.649 | eve1: 3.621 | eve2: 3.742| bob: 0.049\n",
            "Training finished.\n"
          ]
        }
      ],
      "source": [
        "epoch_count = 20\n",
        "batch_size = 512\n",
        "n_batches = 128\n",
        "\n",
        "abecycles = 1\n",
        "evecycles = 2\n",
        "\n",
        "print(\"Training \", epoch_count, \"epochs using\", n_batches, \"batches of size\", batch_size)\n",
        "print(\"------------------------------------------------\")\n",
        "for epoch in range(1,epoch_count):\n",
        "    abe_losses = []\n",
        "    bob_losses = []\n",
        "    eve1_losses = []\n",
        "    eve2_losses = []\n",
        "    for iteration in range(n_batches):\n",
        "        \n",
        "        # Train the A-B+E network\n",
        "        #\n",
        "        alice_model.trainable = True\n",
        "        for cycle in range(abecycles):\n",
        "            # Select a random batch of messages, and a random batch of keys\n",
        "            #\n",
        "            m_batch = np.random.randint(0, 2, m_bits * batch_size).reshape(batch_size, m_bits)\n",
        "            k_batch = np.random.randint(0, 2, k_bits * batch_size).reshape(batch_size, k_bits)\n",
        "            loss = abemodel.train_on_batch([m_batch, k_batch,k_batch], None)\n",
        "            abe_losses.append(loss)\n",
        "        abelosses.append(loss)\n",
        "        abeavg = np.mean(abe_losses)\n",
        "\n",
        "        ainp=concatenate([m_batch, k_batch], axis=1)\n",
        "        # Evaluate Bob's ability to decrypt a message\n",
        "        m_enc = alice_model.predict(ainp)\n",
        "        #print(type(m_enc),type(k_batch))\n",
        "        binp=concatenate([m_enc,tf.cast(k_batch,tf.float64)],axis=1)  \n",
        "        m_dec = bob_model.predict(binp)\n",
        "        loss = np.mean(  np.sum( np.abs(m_batch - m_dec), axis=-1)  )\n",
        "        bob_losses.append(loss)\n",
        "        boblosses.append(loss)\n",
        "        bobavg = np.mean(bob_losses)\n",
        "        \n",
        "        # Train the EVE network\n",
        "        #\n",
        "        alice_model.trainable = False\n",
        "        for cycle in range(evecycles):\n",
        "            m_batch = np.random.randint(0, 2, m_bits * batch_size).reshape(batch_size, m_bits)\n",
        "            k_batch = np.random.randint(0, 2, k_bits * batch_size).reshape(batch_size, k_bits)\n",
        "            loss = eve1_model.train_on_batch([m_batch, k_batch], None)\n",
        "            eve1_losses.append(loss)\n",
        "        evelosses.append(loss)\n",
        "        eveavg = np.mean(eve1_losses)\n",
        "        # Train the EVE2 network\n",
        "        #\n",
        "        alice_model.trainable = False\n",
        "        for cycle in range(evecycles):\n",
        "            m_batch = np.random.randint(0, 2, m_bits * batch_size).reshape(batch_size, m_bits)\n",
        "            k_batch = np.random.randint(0, 2, k_bits * batch_size).reshape(batch_size, k_bits)\n",
        "            loss = eve2_model.train_on_batch([m_batch, k_batch], None)\n",
        "            eve2_losses.append(loss)\n",
        "        eve2losses.append(loss)\n",
        "        eve2avg = np.mean(eve2_losses)\n",
        "        \n",
        "        if iteration % max(1, (n_batches // 100)) == 0:\n",
        "            print(\"\\rEpoch {:3}: {:3}% | abe: {:2.3f} | eve1: {:2.3f} | eve2: {:2.3f}| bob: {:2.3f}\".format(epoch, 100 * iteration // n_batches, abeavg, eveavg, eve2avg,bobavg), end=\"\")\n",
        "            sys.stdout.flush()\n",
        "    \n",
        "    print()\n",
        "    epoch += 1\n",
        "    \n",
        "print('Training finished.')"
      ]
    },
    {
      "cell_type": "code",
      "execution_count": null,
      "metadata": {
        "ExecuteTime": {
          "end_time": "2018-10-24T17:42:57.033465Z",
          "start_time": "2018-10-24T17:42:56.896804Z"
        },
        "colab": {
          "base_uri": "https://localhost:8080/",
          "height": 282
        },
        "id": "nzyTcvfABqkR",
        "outputId": "42e1a59d-4806-452b-970a-668da8f79ec8"
      },
      "outputs": [
        {
          "output_type": "display_data",
          "data": {
            "text/plain": [
              "<Figure size 504x288 with 1 Axes>"
            ],
            "image/png": "[encoded data removed]"
          },
          "metadata": {
            "needs_background": "light"
          }
        }
      ],
      "source": [
        "steps = -1\n",
        "\n",
        "plt.figure(figsize=(7, 4))\n",
        "plt.plot(abelosses[:steps], label='A-B')\n",
        "plt.plot(evelosses[:steps], label='Eve1')\n",
        "plt.plot(eve2losses[:steps], label='Eve2')\n",
        "plt.plot(boblosses[:steps], label='Bob')\n",
        "plt.xlabel(\"Iterations\", fontsize=13)\n",
        "plt.ylabel(\"Bits wrong\", fontsize=13)\n",
        "plt.legend(fontsize=13)\n",
        "\n",
        "#plt.savefig(\"images/\" + model_name + \"-eve1.png\", transparent=True) #dpi=100\n",
        "plt.show()"
      ]
    },
    {
      "cell_type": "code",
      "execution_count": null,
      "metadata": {
        "ExecuteTime": {
          "end_time": "2018-10-24T17:43:01.415532Z",
          "start_time": "2018-10-24T17:43:00.239676Z"
        },
        "colab": {
          "base_uri": "https://localhost:8080/"
        },
        "id": "inlY23hzBqkS",
        "outputId": "e4e8954e-be67-489d-ff96-869ea032107a"
      },
      "outputs": [
        {
          "output_type": "stream",
          "name": "stdout",
          "text": [
            "Bob % correct:  91.03 %\n",
            "Eve % correct:  0.01 %\n",
            "Eve2 key reconstruct % correct:  5.55 %\n"
          ]
        }
      ],
      "source": [
        "n_examples = 10000\n",
        "\n",
        "m_batch = np.random.randint(0, 2, m_bits * n_examples).reshape(n_examples, m_bits)\n",
        "k_batch = np.random.randint(0, 2, m_bits * n_examples).reshape(n_examples, m_bits)\n",
        "ainp=concatenate([m_batch,k_batch], axis=1)\n",
        "m_enc = alice_model.predict(ainp)\n",
        "m_dec = (bob_model.predict(concatenate([m_enc, tf.cast(k_batch,tf.float64)],axis=1)) > 0.5).astype(int)\n",
        "m_att = (eve1_model.predict([m_enc,tf.cast(k_batch,tf.float64)]) > 0.5).astype(int)\n",
        "k_att = (eve2_model.predict([m_enc,tf.cast(k_batch,tf.float64)]) > 0.5).astype(int)\n",
        "bdiff = np.abs(m_batch - m_dec)\n",
        "bsum = np.sum(bdiff, axis=-1)\n",
        "ediff = np.abs(m_batch - m_att)\n",
        "esum = np.sum(ediff, axis=-1)\n",
        "ediff2 = np.abs(k_batch - k_att)\n",
        "esum2 = np.sum(ediff2, axis=-1)\n",
        "\n",
        "print(\"Bob % correct: \", 100.0*np.sum(bsum == 0) / n_examples, '%')\n",
        "print(\"Eve % correct: \", 100.0*np.sum(esum == 0) / n_examples, '%')\n",
        "print(\"Eve2 key reconstruct % correct: \", 100.0*np.sum(esum2 == 0) / n_examples, '%')"
      ]
    }
  ],
  "metadata": {
    "kernelspec": {
      "display_name": "Python 3",
      "language": "python",
      "name": "python3"
    },
    "language_info": {
      "codemirror_mode": {
        "name": "ipython",
        "version": 3
      },
      "file_extension": ".py",
      "mimetype": "text/x-python",
      "name": "python",
      "nbconvert_exporter": "python",
      "pygments_lexer": "ipython3",
      "version": "3.7.3"
    },
    "toc": {
      "base_numbering": 1,
      "nav_menu": {},
      "number_sections": true,
      "sideBar": true,
      "skip_h1_title": false,
      "title_cell": "Table of Contents",
      "title_sidebar": "Contents",
      "toc_cell": false,
      "toc_position": {
        "height": "calc(100% - 180px)",
        "left": "10px",
        "top": "150px",
        "width": "243.068px"
      },
      "toc_section_display": true,
      "toc_window_display": true
    },
    "colab": {
      "name": "SMAI_2Eves_CNN.ipynb",
      "provenance": [],
      "collapsed_sections": []
    }
  },
  "nbformat": 4,
  "nbformat_minor": 0
}